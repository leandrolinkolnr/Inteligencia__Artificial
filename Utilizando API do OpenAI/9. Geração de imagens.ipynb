{
 "cells": [
  {
   "cell_type": "code",
   "execution_count": 1,
   "id": "5242944f",
   "metadata": {},
   "outputs": [],
   "source": [
    "import requests\n",
    "from PIL import Image\n",
    "\n",
    "\n",
    "import openai\n",
    "from dotenv import load_dotenv, find_dotenv\n",
    "\n",
    "_ = load_dotenv(find_dotenv())\n",
    "\n",
    "client = openai.Client()"
   ]
  },
  {
   "cell_type": "markdown",
   "id": "44f25972",
   "metadata": {},
   "source": [
    "## Criando imagens"
   ]
  },
  {
   "cell_type": "code",
   "execution_count": 25,
   "id": "da045e1d",
   "metadata": {},
   "outputs": [],
   "source": [
    "nome = 'bosque'\n",
    "modelo = 'dall-e-3'\n",
    "prompt = 'Crie uma imagem de um campo de pastagem, \\\n",
    "    amplo com uma leve elevação ao fundo.'\n",
    "qualidade = 'hd'\n",
    "style = 'natural'\n",
    "\n",
    "resposta = client.images.generate(\n",
    "    model=modelo,\n",
    "    prompt=prompt,\n",
    "    size='1024x1024',\n",
    "    quality=qualidade,\n",
    "    style=style,\n",
    "    n=1  # Qauntas imagens gerar?\n",
    ")\n"
   ]
  },
  {
   "cell_type": "markdown",
   "id": "c7fcef0a",
   "metadata": {},
   "source": [
    "### Como o modelo gerou o prompt?"
   ]
  },
  {
   "cell_type": "code",
   "execution_count": 26,
   "id": "c62b30a7",
   "metadata": {},
   "outputs": [
    {
     "name": "stdout",
     "output_type": "stream",
     "text": [
      "Generate an image depicting a family of monkeys with true-to-life details, in an urban environment. The family includes a taller father monkey, a shorter mother monkey, and a baby monkey. In the background, a beautiful music school can be seen, with the exact name written on the facade of the school: Escola de Musica: Teo Arte.\n"
     ]
    }
   ],
   "source": [
    "print(resposta.data[0].revised_prompt)"
   ]
  },
  {
   "cell_type": "markdown",
   "id": "19364857",
   "metadata": {},
   "source": [
    "### Link da imagem"
   ]
  },
  {
   "cell_type": "code",
   "execution_count": 27,
   "id": "d7c5f4c5",
   "metadata": {},
   "outputs": [
    {
     "name": "stdout",
     "output_type": "stream",
     "text": [
      "https://oaidalleapiprodscus.blob.core.windows.net/private/org-rmzTdLUJPkFyj2Pw8pHNBbGI/user-z9PFkkcxzzs2CCYIXEukM6oE/img-sVOAltrsrV2KAxMGPmaYrfwv.png?st=2024-05-24T17%3A31%3A06Z&se=2024-05-24T19%3A31%3A06Z&sp=r&sv=2021-08-06&sr=b&rscd=inline&rsct=image/png&skoid=6aaadede-4fb3-4698-a8f6-684d7786b067&sktid=a48cca56-e6da-484e-a814-9c849652bcb3&skt=2024-05-23T22%3A16%3A23Z&ske=2024-05-24T22%3A16%3A23Z&sks=b&skv=2021-08-06&sig=t6YG4w0rhaqYfJ/A7wu69c8Rla0%2Bs4ilK/YHt60laP4%3D\n"
     ]
    }
   ],
   "source": [
    "print(resposta.data[0].url)"
   ]
  },
  {
   "cell_type": "markdown",
   "id": "f8fa8b51",
   "metadata": {},
   "source": [
    "### Salvar imagem"
   ]
  },
  {
   "cell_type": "code",
   "execution_count": 5,
   "id": "bda5ceaa",
   "metadata": {},
   "outputs": [],
   "source": [
    "nome_arquivo = f'arquivos/imagens/{nome}_{modelo}_{qualidade}_{style}.jpg'\n",
    "\n",
    "image_url = resposta.data[0].url\n",
    "img_data = requests.get(image_url).content\n",
    "with open(nome_arquivo, 'wb') as f:\n",
    "    f.write(img_data)"
   ]
  },
  {
   "cell_type": "markdown",
   "id": "6e6cd084",
   "metadata": {},
   "source": [
    "### Abrir imagem"
   ]
  },
  {
   "cell_type": "code",
   "execution_count": 28,
   "id": "7fdf945e",
   "metadata": {},
   "outputs": [],
   "source": [
    "image = Image.open(nome_arquivo)\n",
    "image.show()"
   ]
  },
  {
   "cell_type": "code",
   "execution_count": null,
   "id": "5c20b332",
   "metadata": {},
   "outputs": [],
   "source": []
  },
  {
   "cell_type": "markdown",
   "id": "931b8fc5",
   "metadata": {},
   "source": [
    "## Editando imagens\n",
    "\n",
    "#### O que eu preciso modificar na imagem?\n"
   ]
  },
  {
   "cell_type": "markdown",
   "id": "ef1b3f94",
   "metadata": {},
   "source": [
    "Eu preciso da imagem original e a imagem com uma mascara onde será a edição. Site para mascara:\n",
    "https://ai-image-editor.netlify.app/"
   ]
  },
  {
   "cell_type": "code",
   "execution_count": 33,
   "id": "faa97113",
   "metadata": {},
   "outputs": [],
   "source": [
    "resposta = client.images.edit(\n",
    "    model='dall-e-2',\n",
    "    image=open('arquivos/imagens/original.png', 'rb'),\n",
    "    mask=open('arquivos/imagens/mask.png', 'rb'),\n",
    "    prompt='Adicone uma vaca na imagem fornecida',\n",
    "    n=1,\n",
    "    size='1024x1024'\n",
    ")"
   ]
  },
  {
   "cell_type": "code",
   "execution_count": 34,
   "id": "9c92057d",
   "metadata": {},
   "outputs": [],
   "source": [
    "nome_arquivo = 'arquivos/imagens/editada.png'\n",
    "\n",
    "image_url = resposta.data[0].url\n",
    "img_data = requests.get(image_url).content\n",
    "with open(nome_arquivo, 'wb') as f:\n",
    "    f.write(img_data)"
   ]
  },
  {
   "cell_type": "code",
   "execution_count": 35,
   "id": "8ce83d00",
   "metadata": {},
   "outputs": [],
   "source": [
    "image = Image.open(nome_arquivo)\n",
    "image.show()"
   ]
  },
  {
   "cell_type": "markdown",
   "id": "a65a822a",
   "metadata": {},
   "source": [
    "## Criando Variações da imagem"
   ]
  },
  {
   "cell_type": "code",
   "execution_count": 2,
   "id": "09766989",
   "metadata": {},
   "outputs": [],
   "source": [
    "resposta = client.images.create_variation(\n",
    "    image=open('arquivos/imagens/bosque_dall-e-3_hd_natural.jpg', 'rb'),\n",
    "    n=1,\n",
    "    size='1024x1024'\n",
    ")"
   ]
  },
  {
   "cell_type": "code",
   "execution_count": 3,
   "id": "d8db64c2",
   "metadata": {},
   "outputs": [],
   "source": [
    "nome_arquivo = 'arquivos/imagens/variacao.png'\n",
    "\n",
    "image_url = resposta.data[0].url\n",
    "img_data = requests.get(image_url).content\n",
    "with open(nome_arquivo, 'wb') as f:\n",
    "    f.write(img_data)"
   ]
  },
  {
   "cell_type": "code",
   "execution_count": null,
   "id": "9f831b72",
   "metadata": {},
   "outputs": [],
   "source": [
    "image = Image.open(nome_arquivo)\n",
    "image.show()"
   ]
  }
 ],
 "metadata": {
  "kernelspec": {
   "display_name": "Python 3 (ipykernel)",
   "language": "python",
   "name": "python3"
  },
  "language_info": {
   "codemirror_mode": {
    "name": "ipython",
    "version": 3
   },
   "file_extension": ".py",
   "mimetype": "text/x-python",
   "name": "python",
   "nbconvert_exporter": "python",
   "pygments_lexer": "ipython3",
   "version": "3.11.5"
  }
 },
 "nbformat": 4,
 "nbformat_minor": 5
}
