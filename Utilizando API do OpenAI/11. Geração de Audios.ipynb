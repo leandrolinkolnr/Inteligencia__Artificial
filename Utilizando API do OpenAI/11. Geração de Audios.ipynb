{
 "cells": [
  {
   "cell_type": "code",
   "execution_count": 1,
   "id": "5242944f",
   "metadata": {},
   "outputs": [],
   "source": [
    "import openai\n",
    "from dotenv import load_dotenv, find_dotenv\n",
    "\n",
    "_ = load_dotenv(find_dotenv())\n",
    "\n",
    "client = openai.Client()"
   ]
  },
  {
   "cell_type": "markdown",
   "id": "69826735",
   "metadata": {},
   "source": [
    "# Gerando audio atraves da descrição\n",
    "\n",
    "\n",
    "#### Varias vozes disponiveis: https://platform.openai.com/docs/guides/text-to-speech"
   ]
  },
  {
   "cell_type": "code",
   "execution_count": 11,
   "id": "90ec733e",
   "metadata": {},
   "outputs": [],
   "source": [
    "arquivo = 'arquivos/Shimmer.mp3'\n",
    "\n",
    "texto = '''\n",
    "Descubra a melhor experiência de entretenimento com a nossa IPTV! Com mais de 10.000 canais ao vivo, \n",
    "filmes e séries atualizados, e uma qualidade de imagem incrível em HD e 4K, você nunca mais vai querer outro serviço. \n",
    "Aproveite os melhores eventos esportivos ao vivo e tenha acesso a suporte 24/7.  \n",
    "'''\n",
    "\n",
    "resposta = client.audio.speech.create(\n",
    "    model='tts-1-hd',\n",
    "    voice='shimmer', # Varias vozes\n",
    "    input=texto\n",
    ")\n",
    "resposta.write_to_file(arquivo)"
   ]
  },
  {
   "cell_type": "markdown",
   "id": "a124a680",
   "metadata": {},
   "source": [
    "## Transcrição de áudio em tempo real\n",
    "\n",
    "#### O áudio é enviado e transcrito continuamente, permitindo respostas instantâneas enquanto o áudio é processado."
   ]
  },
  {
   "cell_type": "code",
   "execution_count": 4,
   "id": "1c2670a9",
   "metadata": {},
   "outputs": [],
   "source": [
    "arquivo = 'arquivos/fala.mp3'\n",
    "\n",
    "with client.audio.speech.with_streaming_response.create(\n",
    "    model='tts-1',\n",
    "    voice='onyx',\n",
    "    input=texto\n",
    ") as resposta:\n",
    "    resposta.stream_to_file(arquivo)"
   ]
  },
  {
   "cell_type": "code",
   "execution_count": null,
   "id": "d1ea0e64",
   "metadata": {},
   "outputs": [],
   "source": []
  }
 ],
 "metadata": {
  "kernelspec": {
   "display_name": "Python 3 (ipykernel)",
   "language": "python",
   "name": "python3"
  },
  "language_info": {
   "codemirror_mode": {
    "name": "ipython",
    "version": 3
   },
   "file_extension": ".py",
   "mimetype": "text/x-python",
   "name": "python",
   "nbconvert_exporter": "python",
   "pygments_lexer": "ipython3",
   "version": "3.11.5"
  }
 },
 "nbformat": 4,
 "nbformat_minor": 5
}
