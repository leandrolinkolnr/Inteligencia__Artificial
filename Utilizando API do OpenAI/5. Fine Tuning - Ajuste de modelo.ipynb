{
 "cells": [
  {
   "cell_type": "markdown",
   "id": "99f3c8eb",
   "metadata": {},
   "source": [
    "# Fine Tuning\n",
    "\n",
    "#### Como ajustar um modelo que já aprendeu muitas coisas, para que ele possa aprender algo novo mais facilmente\n",
    "#### Passamos um arquivo com varios exemplos de modelo para que o Assistant responda como nos exemplos."
   ]
  },
  {
   "cell_type": "code",
   "execution_count": null,
   "id": "57f9dbb6",
   "metadata": {},
   "outputs": [],
   "source": []
  },
  {
   "cell_type": "markdown",
   "id": "8653b136",
   "metadata": {},
   "source": [
    "### Resposta que gostaríamos do modelo"
   ]
  },
  {
   "cell_type": "markdown",
   "id": "2e5e5758",
   "metadata": {},
   "source": [
    "```\n",
    "{\n",
    "  \"resposta\": \"Equação quadrática é uma equação polinomial de segundo grau, com a forma ax² + bx + c = 0.\",\n",
    "  \"categoria\": \"Matemática\",\n",
    "  \"fonte\": \"AsimoBot\"\n",
    "}\n",
    "```"
   ]
  },
  {
   "cell_type": "markdown",
   "id": "36f7a355",
   "metadata": {},
   "source": [
    "### Resposta que o modelo está nos dando"
   ]
  },
  {
   "cell_type": "markdown",
   "id": "552a86ed",
   "metadata": {},
   "source": [
    "Uma equação quadrática é uma equação polinomial de segundo grau, ou seja, uma equação na forma ax^2 + bx + c = 0, onde a, b e c são constantes e a é diferente de zero. A incógnita da equação é x e o objetivo é encontrar os valores de x que satisfazem a equação. As equações quadráticas podem ter duas soluções reais, uma solução real ou duas soluções complexas."
   ]
  },
  {
   "cell_type": "markdown",
   "id": "19ccb33b",
   "metadata": {},
   "source": [
    "### Prompt para que ele nos dê a mensagem formatada como queremos"
   ]
  },
  {
   "cell_type": "markdown",
   "id": "ad334c91",
   "metadata": {},
   "source": [
    "system_mes = '''\n",
    "Responda as perguntas em um parágrafo de até 20 palavras. Categorize as respostas no seguintes conteúdos: física, matemática, língua portuguesa ou outros.\n",
    "Retorne a resposta em um formato json, com as keys: \n",
    "fonte: valor deve ser sempre AsimoBot\n",
    "resposta: a resposta para a pergunta\n",
    "categoria: a categoria da pergunta\n",
    "'''"
   ]
  },
  {
   "cell_type": "markdown",
   "id": "917d2361",
   "metadata": {},
   "source": [
    "### Formatação das mensagens que precisamos para realizarmos o Fine Tuning"
   ]
  },
  {
   "cell_type": "markdown",
   "id": "e0030aaf",
   "metadata": {},
   "source": [
    "```\n",
    "{\"messages\": \n",
    "    [\n",
    "        {\"role\": \"user\", \"content\": \"O que é uma equação quadrática\"},\n",
    "        {\"role\": \"assistant\", \"content\": \n",
    "            {\n",
    "                \"resposta\": \"Equação quadrática é uma equação polinomial de segundo grau, com a forma ax² + bx + c = 0.\",\n",
    "                \"categoria\": \"Matemática\",\n",
    "                \"fonte\": \"AsimoBot\"\n",
    "            }},\n",
    "    ]\n",
    "}\n",
    "\n",
    "```"
   ]
  },
  {
   "cell_type": "markdown",
   "id": "e3f3e9f4",
   "metadata": {},
   "source": [
    "### Abrindo e visualizando o arquivo JSON contendo os exemplos de perguntas e respostas\n",
    "\n",
    "O arquivo é atribuido a 'f' e o conteudo de 'f' é atribuido, em formato python, a json_respostas"
   ]
  },
  {
   "cell_type": "code",
   "execution_count": 1,
   "id": "59dc6dae",
   "metadata": {},
   "outputs": [],
   "source": [
    "import json\n",
    "\n",
    "with open('chatbot_respostas.json', encoding=\"utf8\") as f:\n",
    "    json_respostas = json.load(f)"
   ]
  },
  {
   "cell_type": "code",
   "execution_count": 2,
   "id": "4316e793",
   "metadata": {},
   "outputs": [
    {
     "data": {
      "text/plain": [
       "[{'pergunta': 'Qual é a fórmula da área de um círculo?',\n",
       "  'resposta': 'A área de um círculo é π vezes o raio ao quadrado (A = πr²).',\n",
       "  'categoria': 'Matemática'},\n",
       " {'pergunta': 'O que é um substantivo?',\n",
       "  'resposta': 'Substantivo é a classe gramatical de palavras que nomeiam seres, objetos, fenômenos, lugares, qualidades e ações.',\n",
       "  'categoria': 'Língua Portuguesa'},\n",
       " {'pergunta': 'O que é inércia?',\n",
       "  'resposta': 'Inércia é a tendência de um corpo manter seu estado de repouso ou movimento uniforme, a menos que forças atuem sobre ele.',\n",
       "  'categoria': 'Física'},\n",
       " {'pergunta': 'O que é uma equação do segundo grau?',\n",
       "  'resposta': 'É uma equação polinomial onde o maior expoente da incógnita é 2, geralmente na forma ax² + bx + c = 0.',\n",
       "  'categoria': 'Matemática'},\n",
       " {'pergunta': 'O que é fotossíntese?',\n",
       "  'resposta': 'Fotossíntese é o processo pelo qual plantas e outros organismos convertem luz solar em energia química para alimentar suas atividades.',\n",
       "  'categoria': 'Biologia'},\n",
       " {'pergunta': 'O que é um verbo?',\n",
       "  'resposta': 'Verbo é a classe de palavras que expressa ações, estados, fenômenos da natureza ou existência.',\n",
       "  'categoria': 'Língua Portuguesa'},\n",
       " {'pergunta': 'O que é a Lei da Gravitação Universal?',\n",
       "  'resposta': 'É a lei que descreve a atração gravitacional entre duas massas, proporcional ao produto das massas e inversamente ao quadrado da distância entre elas.',\n",
       "  'categoria': 'Física'},\n",
       " {'pergunta': 'Como se calcula a média aritmética?',\n",
       "  'resposta': 'A média aritmética é calculada somando-se todos os valores e dividindo pelo número total de valores.',\n",
       "  'categoria': 'Matemática'},\n",
       " {'pergunta': 'O que é um adjetivo?',\n",
       "  'resposta': 'Adjetivo é a classe de palavras que qualifica ou caracteriza substantivos, indicando atributos ou propriedades.',\n",
       "  'categoria': 'Língua Portuguesa'},\n",
       " {'pergunta': 'O que é energia cinética?',\n",
       "  'resposta': 'Energia cinética é a energia que um objeto possui devido ao seu movimento, calculada por 1/2 mv².',\n",
       "  'categoria': 'Física'},\n",
       " {'pergunta': 'O que é um número primo?',\n",
       "  'resposta': 'Número primo é um número natural maior que 1 que possui apenas dois divisores distintos: ele mesmo e o número 1.',\n",
       "  'categoria': 'Matemática'},\n",
       " {'pergunta': 'O que é um pronome?',\n",
       "  'resposta': 'Pronome é a classe de palavras que substitui ou acompanha substantivos, indicando sua posição em relação às pessoas do discurso.',\n",
       "  'categoria': 'Língua Portuguesa'},\n",
       " {'pergunta': 'O que é a Primeira Lei de Newton?',\n",
       "  'resposta': 'É a Lei da Inércia, que afirma que um corpo em repouso ou em movimento retilíneo uniforme tende a permanecer assim.',\n",
       "  'categoria': 'Física'},\n",
       " {'pergunta': 'Como se resolve uma inequação do primeiro grau?',\n",
       "  'resposta': 'Isola-se a incógnita em um dos lados da inequação e determina-se o conjunto solução que satisfaz a desigualdade.',\n",
       "  'categoria': 'Matemática'},\n",
       " {'pergunta': 'O que é um artigo?',\n",
       "  'resposta': 'Artigo é a classe de palavras que antecede os substantivos para determiná-los ou indeterminá-los.',\n",
       "  'categoria': 'Língua Portuguesa'},\n",
       " {'pergunta': 'O que é a Segunda Lei de Newton?',\n",
       "  'resposta': 'É a Lei da Dinâmica, que relaciona a força aplicada a um corpo à sua massa e aceleração (F = ma).',\n",
       "  'categoria': 'Física'},\n",
       " {'pergunta': 'O que é uma função afim?',\n",
       "  'resposta': 'Uma função afim é uma função polinomial do primeiro grau, dada por f(x) = ax + b, onde a e b são constantes.',\n",
       "  'categoria': 'Matemática'},\n",
       " {'pergunta': 'O que é um advérbio?',\n",
       "  'resposta': 'Advérbio é a classe de palavras que modifica verbos, adjetivos ou outros advérbios, indicando circunstâncias diversas.',\n",
       "  'categoria': 'Língua Portuguesa'},\n",
       " {'pergunta': 'O que é a Terceira Lei de Newton?',\n",
       "  'resposta': 'É a Lei da Ação e Reação, que afirma que para toda ação existe uma reação de igual intensidade e direção oposta.',\n",
       "  'categoria': 'Física'},\n",
       " {'pergunta': 'Como se calcula a diagonal de um quadrado?',\n",
       "  'resposta': 'A diagonal de um quadrado é calculada multiplicando o lado do quadrado pela raiz quadrada de 2 (d = l√2).',\n",
       "  'categoria': 'Matemática'},\n",
       " {'pergunta': 'O que é uma conjunção?',\n",
       "  'resposta': 'Conjunção é a classe de palavras invariáveis que ligam orações ou palavras de mesma função gramatical.',\n",
       "  'categoria': 'Língua Portuguesa'},\n",
       " {'pergunta': 'O que é velocidade média?',\n",
       "  'resposta': 'Velocidade média é a razão entre o deslocamento de um objeto e o tempo gasto para esse deslocamento.',\n",
       "  'categoria': 'Física'},\n",
       " {'pergunta': 'O que é um polígono regular?',\n",
       "  'resposta': 'Um polígono regular é uma figura geométrica plana com todos os lados e ângulos internos iguais.',\n",
       "  'categoria': 'Matemática'},\n",
       " {'pergunta': 'O que é uma preposição?',\n",
       "  'resposta': 'Preposição é a classe de palavras que estabelece relações entre dois ou mais termos da oração.',\n",
       "  'categoria': 'Língua Portuguesa'},\n",
       " {'pergunta': 'O que é aceleração?',\n",
       "  'resposta': 'Aceleração é a taxa de variação da velocidade de um objeto em função do tempo.',\n",
       "  'categoria': 'Física'},\n",
       " {'pergunta': 'Como se calcula o volume de um cilindro?',\n",
       "  'resposta': 'O volume de um cilindro é calculado multiplicando a área da base pela altura (V = πr²h).',\n",
       "  'categoria': 'Matemática'},\n",
       " {'pergunta': 'O que é um interjeição?',\n",
       "  'resposta': 'Interjeição é a classe de palavras que expressa emoções, sentimentos, reações ou comandos de forma súbita e isolada.',\n",
       "  'categoria': 'Língua Portuguesa'},\n",
       " {'pergunta': 'O que é pressão?',\n",
       "  'resposta': 'Pressão é a força exercida perpendicularmente por unidade de área sobre uma superfície.',\n",
       "  'categoria': 'Física'},\n",
       " {'pergunta': 'O que é uma matriz?',\n",
       "  'resposta': 'Matriz é um arranjo retangular de números, símbolos ou expressões, dispostos em linhas e colunas.',\n",
       "  'categoria': 'Matemática'},\n",
       " {'pergunta': 'O que é um numeral?',\n",
       "  'resposta': 'Numeral é a classe de palavras que quantifica ou ordena substantivos, indicando quantidade, posição ou multiplicidade.',\n",
       "  'categoria': 'Língua Portuguesa'},\n",
       " {'pergunta': 'O que é potência elétrica?',\n",
       "  'resposta': 'Potência elétrica é a taxa de consumo de energia elétrica ou a velocidade com que o trabalho é realizado.',\n",
       "  'categoria': 'Física'},\n",
       " {'pergunta': 'O que é um polinômio?',\n",
       "  'resposta': 'Um polinômio é uma expressão algébrica composta por uma soma finita de termos, cada um consistindo de um produto de constantes e variáveis.',\n",
       "  'categoria': 'Matemática'},\n",
       " {'pergunta': 'O que é um sujeito na oração?',\n",
       "  'resposta': 'Sujeito é o termo da oração que indica quem pratica ou recebe a ação verbal, podendo ser simples, composto, oculto ou inexistente.',\n",
       "  'categoria': 'Língua Portuguesa'},\n",
       " {'pergunta': 'O que é resistência elétrica?',\n",
       "  'resposta': 'Resistência elétrica é a oposição que um material apresenta ao fluxo de corrente elétrica, medida em ohms (Ω).',\n",
       "  'categoria': 'Física'},\n",
       " {'pergunta': 'O que é uma equação diferencial?',\n",
       "  'resposta': 'Uma equação diferencial é uma equação que relaciona uma função com suas derivadas.',\n",
       "  'categoria': 'Matemática'},\n",
       " {'pergunta': 'O que é um predicado na oração?',\n",
       "  'resposta': 'Predicado é o termo da oração que contém o verbo e informa algo sobre o sujeito, podendo ser verbal, nominal ou verbo-nominal.',\n",
       "  'categoria': 'Língua Portuguesa'},\n",
       " {'pergunta': 'O que é um circuito elétrico?',\n",
       "  'resposta': 'Um circuito elétrico é um caminho fechado por onde passa corrente elétrica, composto por fonte de energia, condutores e carga.',\n",
       "  'categoria': 'Física'},\n",
       " {'pergunta': 'O que é um vetor?',\n",
       "  'resposta': 'Um vetor é um objeto matemático que possui magnitude (ou tamanho) e direção, representado graficamente por uma seta.',\n",
       "  'categoria': 'Matemática'},\n",
       " {'pergunta': 'O que é um objeto direto?',\n",
       "  'resposta': 'Objeto direto é o complemento que se liga ao verbo sem preposição, indicando o receptor da ação verbal.',\n",
       "  'categoria': 'Língua Portuguesa'},\n",
       " {'pergunta': 'O que é um transformador elétrico?',\n",
       "  'resposta': 'Um transformador elétrico é um dispositivo que altera os níveis de tensão e corrente em um circuito elétrico.',\n",
       "  'categoria': 'Física'},\n",
       " {'pergunta': 'O que é uma sequência numérica?',\n",
       "  'resposta': 'Uma sequência numérica é um conjunto ordenado de números que segue uma regra ou padrão específico.',\n",
       "  'categoria': 'Matemática'},\n",
       " {'pergunta': 'O que é um objeto indireto?',\n",
       "  'resposta': 'Objeto indireto é o complemento que se liga ao verbo por meio de uma preposição, indicando o beneficiário ou alvo indireto da ação.',\n",
       "  'categoria': 'Língua Portuguesa'},\n",
       " {'pergunta': 'O que é indução eletromagnética?',\n",
       "  'resposta': 'Indução eletromagnética é o fenômeno que gera corrente elétrica a partir da variação do campo magnético.',\n",
       "  'categoria': 'Física'},\n",
       " {'pergunta': 'O que é um limite em cálculo?',\n",
       "  'resposta': 'Limite é o valor que uma função se aproxima à medida que a variável independente se aproxima de um ponto específico.',\n",
       "  'categoria': 'Matemática'},\n",
       " {'pergunta': 'O que é um complemento nominal?',\n",
       "  'resposta': 'Complemento nominal é o termo que completa o sentido de um nome (substantivo, adjetivo ou advérbio) e vem sempre precedido de preposição.',\n",
       "  'categoria': 'Língua Portuguesa'},\n",
       " {'pergunta': 'O que é um diodo?',\n",
       "  'resposta': 'Um diodo é um componente eletrônico que permite a passagem de corrente elétrica em uma única direção.',\n",
       "  'categoria': 'Física'},\n",
       " {'pergunta': 'O que é uma integral em cálculo?',\n",
       "  'resposta': 'Integral é o conceito matemático que representa o somatório de infinitos termos infinitesimais, oposto à derivação.',\n",
       "  'categoria': 'Matemática'},\n",
       " {'pergunta': 'O que é um agente da passiva?',\n",
       "  'resposta': \"Agente da passiva é o complemento que indica quem pratica a ação na voz passiva, geralmente introduzido pela preposição 'por' ou 'pelo'.\",\n",
       "  'categoria': 'Língua Portuguesa'},\n",
       " {'pergunta': 'O que é um capacitor?',\n",
       "  'resposta': 'Um capacitor é um componente eletrônico capaz de armazenar e liberar energia elétrica na forma de campo elétrico.',\n",
       "  'categoria': 'Física'},\n",
       " {'pergunta': 'O que é uma série geométrica?',\n",
       "  'resposta': 'Uma série geométrica é a soma dos termos de uma sequência geométrica, onde cada termo é o anterior multiplicado por uma constante.',\n",
       "  'categoria': 'Matemática'},\n",
       " {'pergunta': 'O que é um aposto?',\n",
       "  'resposta': 'Aposto é um termo que explica, resume, especifica ou desenvolve um substantivo anterior, podendo ser separado por vírgulas.',\n",
       "  'categoria': 'Língua Portuguesa'},\n",
       " {'pergunta': 'O que é um resistor?',\n",
       "  'resposta': 'Um resistor é um componente eletrônico que oferece resistência ao fluxo de corrente elétrica, dissipando energia sob a forma de calor.',\n",
       "  'categoria': 'Física'},\n",
       " {'pergunta': 'O que é um átomo?',\n",
       "  'resposta': 'Um átomo é a menor unidade de um elemento químico, composto por prótons, nêutrons e elétrons.',\n",
       "  'categoria': 'Química'},\n",
       " {'pergunta': 'O que é um paralelogramo?',\n",
       "  'resposta': 'Um paralelogramo é um quadrilátero com lados opostos paralelos e de igual comprimento.',\n",
       "  'categoria': 'Matemática'},\n",
       " {'pergunta': 'O que é um substantivo coletivo?',\n",
       "  'resposta': 'Substantivo coletivo é um substantivo que, mesmo no singular, refere-se a um conjunto de seres da mesma espécie.',\n",
       "  'categoria': 'Língua Portuguesa'},\n",
       " {'pergunta': 'O que é a Lei de Ohm?',\n",
       "  'resposta': 'A Lei de Ohm afirma que a corrente em um condutor é diretamente proporcional à tensão e inversamente proporcional à resistência.',\n",
       "  'categoria': 'Física'},\n",
       " {'pergunta': 'O que é um ângulo reto?',\n",
       "  'resposta': 'Um ângulo reto é um ângulo de 90 graus.',\n",
       "  'categoria': 'Matemática'},\n",
       " {'pergunta': 'O que é um predicativo do sujeito?',\n",
       "  'resposta': 'Predicativo do sujeito é o termo que atribui uma característica ou estado ao sujeito da oração.',\n",
       "  'categoria': 'Língua Portuguesa'},\n",
       " {'pergunta': 'O que é um catalisador?',\n",
       "  'resposta': 'Um catalisador é uma substância que acelera uma reação química sem ser consumida no processo.',\n",
       "  'categoria': 'Química'},\n",
       " {'pergunta': 'O que é um triângulo isósceles?',\n",
       "  'resposta': 'Um triângulo isósceles tem dois lados de igual comprimento e dois ângulos iguais.',\n",
       "  'categoria': 'Matemática'},\n",
       " {'pergunta': 'O que é um verbo transitivo?',\n",
       "  'resposta': 'Verbo transitivo é aquele que necessita de um complemento, direto ou indireto, para ter sentido completo.',\n",
       "  'categoria': 'Língua Portuguesa'},\n",
       " {'pergunta': 'O que é um espectro eletromagnético?',\n",
       "  'resposta': 'O espectro eletromagnético é a distribuição de todas as ondas eletromagnéticas por frequência ou comprimento de onda.',\n",
       "  'categoria': 'Física'},\n",
       " {'pergunta': 'O que é uma reação exotérmica?',\n",
       "  'resposta': 'Uma reação exotérmica libera calor para o ambiente durante o processo químico.',\n",
       "  'categoria': 'Química'},\n",
       " {'pergunta': 'O que é um triângulo escaleno?',\n",
       "  'resposta': 'Um triângulo escaleno é um triângulo com todos os lados e ângulos de medidas diferentes.',\n",
       "  'categoria': 'Matemática'},\n",
       " {'pergunta': 'O que é uma oração subordinada?',\n",
       "  'resposta': 'Uma oração subordinada é aquela que depende de outra oração, a principal, para ter sentido completo.',\n",
       "  'categoria': 'Língua Portuguesa'},\n",
       " {'pergunta': 'O que é um condutor elétrico?',\n",
       "  'resposta': 'Um condutor elétrico é um material que permite a passagem de corrente elétrica com facilidade.',\n",
       "  'categoria': 'Física'},\n",
       " {'pergunta': 'O que é uma reação endotérmica?',\n",
       "  'resposta': 'Uma reação endotérmica absorve calor do ambiente durante o processo químico.',\n",
       "  'categoria': 'Química'},\n",
       " {'pergunta': 'O que é um triângulo equilátero?',\n",
       "  'resposta': 'Um triângulo equilátero tem todos os lados e ângulos iguais, cada ângulo medindo 60 graus.',\n",
       "  'categoria': 'Matemática'},\n",
       " {'pergunta': 'O que é uma oração coordenada?',\n",
       "  'resposta': 'Uma oração coordenada é aquela que não depende de outra oração e tem sentido completo.',\n",
       "  'categoria': 'Língua Portuguesa'},\n",
       " {'pergunta': 'O que é um isolante elétrico?',\n",
       "  'resposta': 'Um isolante elétrico é um material que oferece grande resistência à passagem de corrente elétrica.',\n",
       "  'categoria': 'Física'},\n",
       " {'pergunta': 'O que é uma tabela periódica?',\n",
       "  'resposta': 'A tabela periódica é uma disposição sistemática dos elementos químicos, organizados por número atômico, eletronegatividade e propriedades químicas.',\n",
       "  'categoria': 'Química'},\n",
       " {'pergunta': 'O que é uma circunferência?',\n",
       "  'resposta': 'Uma circunferência é o conjunto de todos os pontos em um plano que estão a uma distância fixa de um ponto central.',\n",
       "  'categoria': 'Matemática'},\n",
       " {'pergunta': 'O que é um adjunto adnominal?',\n",
       "  'resposta': 'Adjunto adnominal é o termo que caracteriza ou determina um substantivo, geralmente representado por adjetivos ou locuções adjetivas.',\n",
       "  'categoria': 'Língua Portuguesa'},\n",
       " {'pergunta': 'O que é um semicondutor?',\n",
       "  'resposta': 'Um semicondutor é um material que possui condutividade elétrica entre a de um isolante e a de um condutor.',\n",
       "  'categoria': 'Física'},\n",
       " {'pergunta': 'O que é um ácido?',\n",
       "  'resposta': 'Um ácido é uma substância que libera íons H+ em solução aquosa e tem pH menor que 7.',\n",
       "  'categoria': 'Química'},\n",
       " {'pergunta': 'O que é um quadrado?',\n",
       "  'resposta': 'Um quadrado é um polígono regular com quatro lados iguais e quatro ângulos retos.',\n",
       "  'categoria': 'Matemática'},\n",
       " {'pergunta': 'O que é um adjunto adverbial?',\n",
       "  'resposta': 'Adjunto adverbial é o termo que indica uma circunstância relacionada ao verbo, como tempo, modo, lugar, causa, entre outros.',\n",
       "  'categoria': 'Língua Portuguesa'},\n",
       " {'pergunta': 'O que é um transistor?',\n",
       "  'resposta': 'Um transistor é um dispositivo semicondutor usado para amplificar ou comutar sinais eletrônicos e energia elétrica.',\n",
       "  'categoria': 'Física'},\n",
       " {'pergunta': 'O que é uma base em química?',\n",
       "  'resposta': 'Uma base é uma substância que libera íons OH- em solução aquosa e tem pH maior que 7.',\n",
       "  'categoria': 'Química'},\n",
       " {'pergunta': 'O que é um retângulo?',\n",
       "  'resposta': 'Um retângulo é um paralelogramo com quatro ângulos retos.',\n",
       "  'categoria': 'Matemática'},\n",
       " {'pergunta': 'O que é uma locução adverbial?',\n",
       "  'resposta': 'Locução adverbial é um conjunto de duas ou mais palavras que, juntas, exercem a função de um advérbio.',\n",
       "  'categoria': 'Língua Portuguesa'},\n",
       " {'pergunta': 'O que é um LED?',\n",
       "  'resposta': \"LED significa 'diodo emissor de luz', um dispositivo semicondutor que emite luz quando atravessado por corrente elétrica.\",\n",
       "  'categoria': 'Física'},\n",
       " {'pergunta': 'O que é um sal em química?',\n",
       "  'resposta': 'Um sal é um composto iônico formado pela reação de neutralização entre um ácido e uma base.',\n",
       "  'categoria': 'Química'},\n",
       " {'pergunta': 'O que é um losango?',\n",
       "  'resposta': 'Um losango é um paralelogramo com todos os lados iguais, mas não necessariamente com ângulos retos.',\n",
       "  'categoria': 'Matemática'},\n",
       " {'pergunta': 'O que é uma locução conjuntiva?',\n",
       "  'resposta': 'Locução conjuntiva é um conjunto de duas ou mais palavras que exercem a função de uma conjunção.',\n",
       "  'categoria': 'Língua Portuguesa'},\n",
       " {'pergunta': 'O que é um fusível?',\n",
       "  'resposta': 'Um fusível é um dispositivo de segurança que interrompe a corrente elétrica quando esta excede um valor seguro.',\n",
       "  'categoria': 'Física'},\n",
       " {'pergunta': 'O que é uma oxidação?',\n",
       "  'resposta': 'Oxidação é uma reação química onde um elemento perde elétrons, aumentando seu estado de oxidação.',\n",
       "  'categoria': 'Química'},\n",
       " {'pergunta': 'O que é um trapézio?',\n",
       "  'resposta': 'Um trapézio é um quadrilátero com pelo menos um par de lados opostos paralelos.',\n",
       "  'categoria': 'Matemática'},\n",
       " {'pergunta': 'O que é uma locução prepositiva?',\n",
       "  'resposta': 'Locução prepositiva é um conjunto de duas ou mais palavras que exercem a função de uma preposição.',\n",
       "  'categoria': 'Língua Portuguesa'},\n",
       " {'pergunta': 'O que é um voltímetro?',\n",
       "  'resposta': 'Um voltímetro é um instrumento usado para medir a diferença de potencial elétrico entre dois pontos de um circuito.',\n",
       "  'categoria': 'Física'},\n",
       " {'pergunta': 'O que é uma redução?',\n",
       "  'resposta': 'Redução é uma reação química onde um elemento ganha elétrons, diminuindo seu estado de oxidação.',\n",
       "  'categoria': 'Química'},\n",
       " {'pergunta': 'O que é um hexágono?',\n",
       "  'resposta': 'Um hexágono é um polígono com seis lados e seis ângulos.',\n",
       "  'categoria': 'Matemática'},\n",
       " {'pergunta': 'O que é uma locução verbal?',\n",
       "  'resposta': 'Locução verbal é a combinação de um verbo auxiliar com um verbo principal para expressar uma única ideia.',\n",
       "  'categoria': 'Língua Portuguesa'},\n",
       " {'pergunta': 'O que é um amperímetro?',\n",
       "  'resposta': 'Um amperímetro é um instrumento usado para medir a corrente elétrica que passa por um circuito.',\n",
       "  'categoria': 'Física'},\n",
       " {'pergunta': 'O que é um ácido forte?',\n",
       "  'resposta': 'Um ácido forte é aquele que se ioniza completamente em solução aquosa, liberando uma grande quantidade de íons H+.',\n",
       "  'categoria': 'Química'},\n",
       " {'pergunta': 'O que é um pentágono?',\n",
       "  'resposta': 'Um pentágono é um polígono com cinco lados e cinco ângulos.',\n",
       "  'categoria': 'Matemática'},\n",
       " {'pergunta': 'O que é um verbo intransitivo?',\n",
       "  'resposta': 'Verbo intransitivo é aquele que não necessita de complemento para ter sentido completo, podendo ser acompanhado de adjunto adverbial.',\n",
       "  'categoria': 'Língua Portuguesa'},\n",
       " {'pergunta': 'O que é um multímetro?',\n",
       "  'resposta': 'Um multímetro é um instrumento que pode medir tensão, corrente e resistência em um circuito elétrico.',\n",
       "  'categoria': 'Física'},\n",
       " {'pergunta': 'O que é uma base forte?',\n",
       "  'resposta': 'Uma base forte é aquela que se ioniza completamente em solução aquosa, liberando uma grande quantidade de íons OH-.',\n",
       "  'categoria': 'Química'},\n",
       " {'pergunta': 'O que é um octógono?',\n",
       "  'resposta': 'Um octógono é um polígono com oito lados e oito ângulos.',\n",
       "  'categoria': 'Matemática'},\n",
       " {'pergunta': 'O que é um verbo de ligação?',\n",
       "  'resposta': 'Verbo de ligação é aquele que conecta o sujeito ao predicativo, indicando um estado ou característica.',\n",
       "  'categoria': 'Língua Portuguesa'},\n",
       " {'pergunta': 'O que é um osciloscópio?',\n",
       "  'resposta': 'Um osciloscópio é um instrumento de medição eletrônico que cria um gráfico visual de variações de tensão.',\n",
       "  'categoria': 'Física'},\n",
       " {'pergunta': 'Qual é a capital da França?',\n",
       "  'resposta': 'A capital da França é Paris.',\n",
       "  'categoria': 'Outros'},\n",
       " {'pergunta': \"Quem pintou a 'Mona Lisa'?\",\n",
       "  'resposta': \"A 'Mona Lisa' foi pintada por Leonardo da Vinci.\",\n",
       "  'categoria': 'Outros'},\n",
       " {'pergunta': 'Qual é o maior planeta do Sistema Solar?',\n",
       "  'resposta': 'O maior planeta do Sistema Solar é Júpiter.',\n",
       "  'categoria': 'Outros'},\n",
       " {'pergunta': 'O que é um haicai?',\n",
       "  'resposta': 'Haicai é uma forma poética japonesa composta por três linhas de 5, 7 e 5 sílabas.',\n",
       "  'categoria': 'Outros'},\n",
       " {'pergunta': \"Quem escreveu 'Dom Quixote'?\",\n",
       "  'resposta': \"'Dom Quixote' foi escrito por Miguel de Cervantes.\",\n",
       "  'categoria': 'Outros'},\n",
       " {'pergunta': 'Qual é o rio mais longo do mundo?',\n",
       "  'resposta': 'O rio mais longo do mundo é o Rio Nilo.',\n",
       "  'categoria': 'Outros'},\n",
       " {'pergunta': 'O que é um soneto?',\n",
       "  'resposta': 'Um soneto é um poema de forma fixa com 14 versos, geralmente divididos em dois quartetos e dois tercetos.',\n",
       "  'categoria': 'Outros'},\n",
       " {'pergunta': \"Quem é o autor de 'Cem Anos de Solidão'?\",\n",
       "  'resposta': \"Gabriel García Márquez é o autor de 'Cem Anos de Solidão'.\",\n",
       "  'categoria': 'Outros'},\n",
       " {'pergunta': \"Qual é o elemento químico com o símbolo 'Au'?\",\n",
       "  'resposta': \"O elemento químico com o símbolo 'Au' é o ouro.\",\n",
       "  'categoria': 'Outros'},\n",
       " {'pergunta': 'O que é um samurai?',\n",
       "  'resposta': 'Samurai era um membro da classe guerreira feudal no Japão.',\n",
       "  'categoria': 'Outros'},\n",
       " {'pergunta': 'Qual é o idioma oficial do Brasil?',\n",
       "  'resposta': 'O idioma oficial do Brasil é o português.',\n",
       "  'categoria': 'Outros'},\n",
       " {'pergunta': 'O que é a Grande Muralha da China?',\n",
       "  'resposta': 'A Grande Muralha da China é uma antiga fortificação chinesa construída para proteger contra invasões.',\n",
       "  'categoria': 'Outros'},\n",
       " {'pergunta': 'Quem foi Cleópatra?',\n",
       "  'resposta': 'Cleópatra foi a última rainha do Egito Ptolomaico, conhecida por sua relação com Júlio César e Marco Antônio.',\n",
       "  'categoria': 'Outros'},\n",
       " {'pergunta': 'O que é o Taj Mahal?',\n",
       "  'resposta': 'O Taj Mahal é um mausoléu de mármore branco na Índia, construído pelo imperador Shah Jahan.',\n",
       "  'categoria': 'Outros'},\n",
       " {'pergunta': 'Quem foi o primeiro homem a pisar na Lua?',\n",
       "  'resposta': 'Neil Armstrong foi o primeiro homem a pisar na Lua em 1969.',\n",
       "  'categoria': 'Outros'},\n",
       " {'pergunta': 'O que é um quasar?',\n",
       "  'resposta': 'Um quasar é um objeto astronômico extremamente luminoso, alimentado por um buraco negro supermassivo.',\n",
       "  'categoria': 'Outros'},\n",
       " {'pergunta': 'O que é o Renascimento?',\n",
       "  'resposta': 'O Renascimento foi um movimento cultural que ocorreu na Europa entre os séculos XIV e XVII.',\n",
       "  'categoria': 'Outros'},\n",
       " {'pergunta': 'Quem foi Sócrates?',\n",
       "  'resposta': 'Sócrates foi um filósofo grego antigo, considerado um dos fundadores da filosofia ocidental.',\n",
       "  'categoria': 'Outros'},\n",
       " {'pergunta': 'O que é a teoria da evolução?',\n",
       "  'resposta': 'A teoria da evolução explica a diversidade de vida na Terra pela seleção natural e descendência com modificação.',\n",
       "  'categoria': 'Outros'},\n",
       " {'pergunta': 'Quem foi William Shakespeare?',\n",
       "  'resposta': \"William Shakespeare foi um dramaturgo e poeta inglês, autor de peças famosas como 'Hamlet' e 'Romeu e Julieta'.\",\n",
       "  'categoria': 'Outros'},\n",
       " {'pergunta': 'O que é a Via Láctea?',\n",
       "  'resposta': 'A Via Láctea é a galáxia que contém o nosso sistema solar, composta por bilhões de estrelas.',\n",
       "  'categoria': 'Outros'},\n",
       " {'pergunta': 'O que é um buraco negro?',\n",
       "  'resposta': 'Um buraco negro é uma região do espaço-tempo com gravidade tão intensa que nada, nem mesmo a luz, pode escapar.',\n",
       "  'categoria': 'Outros'},\n",
       " {'pergunta': 'O que é a teoria da relatividade?',\n",
       "  'resposta': 'A teoria da relatividade é um conjunto de duas teorias científicas (especial e geral) formuladas por Albert Einstein.',\n",
       "  'categoria': 'Outros'},\n",
       " {'pergunta': 'O que é o Big Bang?',\n",
       "  'resposta': 'O Big Bang é a teoria científica que explica a origem do universo a partir de uma grande explosão.',\n",
       "  'categoria': 'Outros'},\n",
       " {'pergunta': 'O que é a Internet?',\n",
       "  'resposta': 'A Internet é uma rede global de computadores interconectados que permite a troca de informações e comunicação.',\n",
       "  'categoria': 'Outros'},\n",
       " {'pergunta': 'O que é um vírus de computador?',\n",
       "  'resposta': 'Um vírus de computador é um software malicioso projetado para se espalhar e danificar sistemas de computadores.',\n",
       "  'categoria': 'Outros'},\n",
       " {'pergunta': 'O que é a Revolução Industrial?',\n",
       "  'resposta': 'A Revolução Industrial foi uma época de grandes transformações tecnológicas e sociais que começou na Inglaterra no século XVIII.',\n",
       "  'categoria': 'Outros'},\n",
       " {'pergunta': 'O que é a ONU?',\n",
       "  'resposta': 'A ONU é a Organização das Nações Unidas, uma organização internacional fundada em 1945 para promover a paz e a cooperação mundial.',\n",
       "  'categoria': 'Outros'},\n",
       " {'pergunta': 'O que é a OTAN?',\n",
       "  'resposta': 'A OTAN é a Organização do Tratado do Atlântico Norte, uma aliança militar intergovernamental criada em 1949.',\n",
       "  'categoria': 'Outros'},\n",
       " {'pergunta': 'O que é a UNESCO?',\n",
       "  'resposta': 'A UNESCO é a Organização das Nações Unidas para a Educação, a Ciência e a Cultura, promovendo a paz e a segurança cultural.',\n",
       "  'categoria': 'Outros'}]"
      ]
     },
     "execution_count": 2,
     "metadata": {},
     "output_type": "execute_result"
    }
   ],
   "source": [
    "json_respostas"
   ]
  },
  {
   "cell_type": "markdown",
   "id": "db07c3ea",
   "metadata": {},
   "source": [
    "# Precisamos passar esse conteudo para o formato aceito para Fine Tuning\n",
    "\n",
    "#### Escreve os dados de `json_respostas` em um arquivo JSONL, onde cada linha contém uma entrada  em um formato específico."
   ]
  },
  {
   "cell_type": "code",
   "execution_count": 3,
   "id": "f9a0d9c0",
   "metadata": {},
   "outputs": [],
   "source": [
    "# Cria o arquivo Jsonl em modo de escrita ('w') com UTF-8 e atribui o objeto de arquivo resultante à variável f\n",
    "with open('chatbot_respostas.jsonl', 'w', encoding=\"utf8\") as f:  \n",
    "    for entrada in json_respostas:  # Itera em cada linha e cria um dicionário (resposta) com as chaves 'resposta', 'categoria' e 'fonte'. \n",
    "        resposta = {                # Os valores correspondentes são atribuidos.\n",
    "            'resposta': entrada['resposta'],\n",
    "            'categoria': entrada['categoria'],\n",
    "            'fonte': 'AsimoBot'} \n",
    "        \n",
    "        \n",
    "        # Cria um dicionário (entrada_jsonl), com lista de mensagens (um dicionário com um role e content. \n",
    "        # O papel pode ser 'user' ou 'assistant'. O conteúdo é a resposta convertida em JSON usando json.dumps().\n",
    "        \n",
    "        entrada_jsonl = {  # Mapeia as respostas em formato de mensagem\n",
    "            'messages': [\n",
    "                {'role': 'user', 'content': entrada['pergunta']},\n",
    "                {'role': 'assistant', 'content': json.dumps(resposta, ensure_ascii=False, indent=2)}\n",
    "            ]\n",
    "        }\n",
    "        \n",
    "        # Escreve a entrada JSONL atual (entrada_jsonl) no arquivo f usando json.dump(). \n",
    "        json.dump(entrada_jsonl, f, ensure_ascii=False)\n",
    "        \n",
    "        f.write('\\n')   # Escreve uma nova linha no arquivo f. Separa cada entrada JSONL em linhas distintas."
   ]
  },
  {
   "cell_type": "markdown",
   "id": "2c93ebdd",
   "metadata": {},
   "source": [
    "### Instaniando o Client"
   ]
  },
  {
   "cell_type": "code",
   "execution_count": 4,
   "id": "41893f6c",
   "metadata": {},
   "outputs": [],
   "source": [
    "import openai\n",
    "from dotenv import load_dotenv, find_dotenv\n",
    "\n",
    "_ = load_dotenv(find_dotenv())\n",
    "\n",
    "client = openai.Client()"
   ]
  },
  {
   "cell_type": "markdown",
   "id": "c1273e59",
   "metadata": {},
   "source": [
    "## Passando o JsonL para o OPENAI\n",
    "\n",
    "\n",
    "'rb': modo de abertura em modo binario. É comumente usado quando está lidando com arquivos que não são texto simples, como imagens, áudio ou outros tipos.\n",
    "\n",
    "purpose='fine-tune' é um parâmetro que especifica o propósito para o qual o arquivo será usado. Neste caso, indica que o arquivo será usado para \"fine-tuning\" , ou seja, será utilizado para adaptar o modelo pré-treinado para uma tarefa específica."
   ]
  },
  {
   "cell_type": "code",
   "execution_count": 8,
   "id": "cbd647ee",
   "metadata": {},
   "outputs": [
    {
     "data": {
      "text/plain": [
       "FineTuningJob(id='ftjob-8LvV5M7m8fhkMJ99OlzsZsKH', created_at=1716062338, error=Error(code=None, message=None, param=None), fine_tuned_model=None, finished_at=None, hyperparameters=Hyperparameters(n_epochs='auto', batch_size='auto', learning_rate_multiplier='auto'), model='gpt-3.5-turbo-0125', object='fine_tuning.job', organization_id='org-rmzTdLUJPkFyj2Pw8pHNBbGI', result_files=[], seed=1121202986, status='validating_files', trained_tokens=None, training_file='file-l4mLbXTsDv2hWVycH2e0PEcG', validation_file=None, estimated_finish=None, integrations=[], user_provided_suffix=None)"
      ]
     },
     "execution_count": 8,
     "metadata": {},
     "output_type": "execute_result"
    }
   ],
   "source": [
    "# Cria um arquivo usando o conteúdo do `chatbot_respostas.jsonl`, para ser usado para fine-tuning de um modelo.\n",
    "file = client.files.create(\n",
    "    file=open('chatbot_respostas.jsonl',  'rb'),\n",
    "    purpose='fine-tune'\n",
    ")\n",
    "\n",
    "#  cria tarefa que usa o arquivo para efetivamente realizar o ajuste fino. inicia o processo de treinamento do modelo\n",
    "client.fine_tuning.jobs.create(\n",
    "    training_file=file.id,\n",
    "    model=\"gpt-3.5-turbo\"\n",
    ")"
   ]
  },
  {
   "cell_type": "markdown",
   "id": "fb6d6941",
   "metadata": {},
   "source": [
    "### Solicitando uma lista de todos os fine-tuning que foram criados no cliente."
   ]
  },
  {
   "cell_type": "code",
   "execution_count": 5,
   "id": "d968541d",
   "metadata": {},
   "outputs": [
    {
     "data": {
      "text/plain": [
       "SyncCursorPage[FineTuningJob](data=[FineTuningJob(id='ftjob-8LvV5M7m8fhkMJ99OlzsZsKH', created_at=1716062338, error=Error(code=None, message=None, param=None), fine_tuned_model='ft:gpt-3.5-turbo-0125:personal::9QKgWokQ', finished_at=1716063066, hyperparameters=Hyperparameters(n_epochs=3, batch_size=1, learning_rate_multiplier=2), model='gpt-3.5-turbo-0125', object='fine_tuning.job', organization_id='org-rmzTdLUJPkFyj2Pw8pHNBbGI', result_files=['file-5vVIXDyeErWEeNeZH0kUaiZP'], seed=1121202986, status='succeeded', trained_tokens=29211, training_file='file-l4mLbXTsDv2hWVycH2e0PEcG', validation_file=None, estimated_finish=None, integrations=[], user_provided_suffix=None)], object='list', has_more=False)"
      ]
     },
     "execution_count": 5,
     "metadata": {},
     "output_type": "execute_result"
    }
   ],
   "source": [
    "client.fine_tuning.jobs.list()"
   ]
  },
  {
   "cell_type": "markdown",
   "id": "22a227b6",
   "metadata": {},
   "source": [
    "# Utilizando o Modelo"
   ]
  },
  {
   "cell_type": "markdown",
   "id": "37d58aad",
   "metadata": {},
   "source": [
    "### Resposta padrão do modelo"
   ]
  },
  {
   "cell_type": "code",
   "execution_count": 6,
   "id": "6edb08f7",
   "metadata": {},
   "outputs": [
    {
     "name": "stdout",
     "output_type": "stream",
     "text": [
      "Uma equação quadrática é uma equação polinomial de segundo grau, ou seja, uma equação na forma ax^2 + bx + c = 0, onde a, b e c são constantes e a ≠ 0. A incógnita da equação é x e o objetivo é encontrar os valores de x que satisfazem a equação. As equações quadráticas podem ter duas soluções reais, uma solução real ou duas soluções complexas.\n"
     ]
    }
   ],
   "source": [
    "mensagens = [{'role': 'user', 'content': 'O que é uma equação quadrática?'}]\n",
    "\n",
    "resposta = client.chat.completions.create(\n",
    "    messages=mensagens,\n",
    "    model=\"gpt-3.5-turbo\",\n",
    "    max_tokens=1000,\n",
    "    temperature=0\n",
    ")\n",
    "\n",
    "print(resposta.choices[0].message.content)"
   ]
  },
  {
   "cell_type": "markdown",
   "id": "16a6f15e",
   "metadata": {},
   "source": [
    "### Resposta do modelo com prompt melhor"
   ]
  },
  {
   "cell_type": "code",
   "execution_count": 7,
   "id": "552f5b5c",
   "metadata": {},
   "outputs": [
    {
     "name": "stdout",
     "output_type": "stream",
     "text": [
      "{\n",
      "    \"fonte\": \"AsimoBot\",\n",
      "    \"resposta\": \"Uma equação quadrática é uma equação polinomial de segundo grau, ou seja, com a forma ax^2 + bx + c = 0.\",\n",
      "    \"categoria\": \"matemática\"\n",
      "}\n"
     ]
    }
   ],
   "source": [
    "system_mes = '''\n",
    "Responda as perguntas em um parágrafo de até 20 palavras. Categorize as respostas no seguintes conteúdos: física, matemática, língua portuguesa ou outros.\n",
    "Retorne a resposta em um formato json, com as keys: \n",
    "fonte: valor deve ser sempre AsimoBot\n",
    "resposta: a resposta para a pergunta\n",
    "categoria: a categoria da pergunta\n",
    "'''\n",
    "\n",
    "# Acrescentando o prompt\n",
    "mensagens = [\n",
    "    {'role': 'system', 'content': system_mes},\n",
    "    {'role': 'user', 'content': 'O que é uma equação quadrática?'}\n",
    "    ]\n",
    "\n",
    "resposta = client.chat.completions.create(\n",
    "    messages=mensagens,\n",
    "    model=\"gpt-3.5-turbo\",\n",
    "    max_tokens=1000,\n",
    "    temperature=0\n",
    ")\n",
    "\n",
    "print(resposta.choices[0].message.content)"
   ]
  },
  {
   "cell_type": "markdown",
   "id": "6e16d955",
   "metadata": {},
   "source": [
    "#### A resposta foi como queriamos. Porem, temos um alto Gasto se toda vez formos usar esses prompts para especificar resposta:"
   ]
  },
  {
   "cell_type": "code",
   "execution_count": 8,
   "id": "cd03f73c",
   "metadata": {},
   "outputs": [
    {
     "data": {
      "text/plain": [
       "CompletionUsage(completion_tokens=62, prompt_tokens=114, total_tokens=176)"
      ]
     },
     "execution_count": 8,
     "metadata": {},
     "output_type": "execute_result"
    }
   ],
   "source": [
    "resposta.usage"
   ]
  },
  {
   "cell_type": "code",
   "execution_count": null,
   "id": "4dcc38a6",
   "metadata": {},
   "outputs": [],
   "source": []
  },
  {
   "cell_type": "markdown",
   "id": "1209f09d",
   "metadata": {},
   "source": [
    "# Resposta do modelo utilizando o Fine Tuning"
   ]
  },
  {
   "cell_type": "code",
   "execution_count": 11,
   "id": "8680a89d",
   "metadata": {},
   "outputs": [
    {
     "name": "stdout",
     "output_type": "stream",
     "text": [
      "{\n",
      "  \"resposta\": \"Uma equação quadrática é uma equação polinomial de segundo grau, geralmente na forma ax^2 + bx + c = 0.\",\n",
      "  \"categoria\": \"Matemática\",\n",
      "  \"fonte\": \"AsimoBot\"\n",
      "}\n"
     ]
    }
   ],
   "source": [
    "mensagens = [\n",
    "    {'role': 'user', 'content': 'O que é uma equação quadrática?'}\n",
    "    ]\n",
    "\n",
    "resposta = client.chat.completions.create(\n",
    "    messages=mensagens,\n",
    "    model=\"ft:gpt-3.5-turbo-0125:personal::9QKgWokQ\",  # Passar o id do Tuning Modelo \n",
    "    max_tokens=1000,\n",
    "    temperature=0\n",
    ")\n",
    "\n",
    "print(resposta.choices[0].message.content)"
   ]
  },
  {
   "cell_type": "markdown",
   "id": "48805b66",
   "metadata": {},
   "source": [
    "### Podemos notar bem menos tokens utilizados para a resposta como queremos"
   ]
  },
  {
   "cell_type": "code",
   "execution_count": 12,
   "id": "bba5338f",
   "metadata": {},
   "outputs": [
    {
     "data": {
      "text/plain": [
       "CompletionUsage(completion_tokens=60, prompt_tokens=16, total_tokens=76)"
      ]
     },
     "execution_count": 12,
     "metadata": {},
     "output_type": "execute_result"
    }
   ],
   "source": [
    "resposta.usage"
   ]
  }
 ],
 "metadata": {
  "kernelspec": {
   "display_name": "Python 3 (ipykernel)",
   "language": "python",
   "name": "python3"
  },
  "language_info": {
   "codemirror_mode": {
    "name": "ipython",
    "version": 3
   },
   "file_extension": ".py",
   "mimetype": "text/x-python",
   "name": "python",
   "nbconvert_exporter": "python",
   "pygments_lexer": "ipython3",
   "version": "3.11.5"
  }
 },
 "nbformat": 4,
 "nbformat_minor": 5
}
