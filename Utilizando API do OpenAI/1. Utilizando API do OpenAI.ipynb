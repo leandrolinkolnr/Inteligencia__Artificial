{
 "cells": [
  {
   "cell_type": "code",
   "execution_count": 1,
   "id": "2a67395e",
   "metadata": {},
   "outputs": [],
   "source": [
    "import openai\n",
    "from dotenv import load_dotenv, find_dotenv\n",
    "\n",
    "_ = load_dotenv(find_dotenv()) # Carregando a ApiKey secreta"
   ]
  },
  {
   "cell_type": "code",
   "execution_count": 2,
   "id": "9426fcfa",
   "metadata": {},
   "outputs": [],
   "source": [
    "client = openai.Client()   # Instanciando a API client"
   ]
  },
  {
   "cell_type": "code",
   "execution_count": 3,
   "id": "2a71f3b9",
   "metadata": {},
   "outputs": [],
   "source": [
    "mensagens = [{'role': 'user', 'content': 'O que é uma maçã em 5 palavras?'}]\n",
    "\n",
    "# Capturando a resposta do modelo\n",
    "resposta = client.chat.completions.create(\n",
    "    messages=mensagens,\n",
    "    model='gpt-3.5-turbo-0125',\n",
    "    max_tokens=1000,\n",
    "    temperature=0\n",
    ")\n"
   ]
  },
  {
   "cell_type": "markdown",
   "id": "8f043df8",
   "metadata": {},
   "source": [
    "### Acessando varios atributos da respota\n",
    "\n",
    "resposta\n",
    "\n",
    "resposta.id\n",
    "\n",
    "resposta.choices..."
   ]
  },
  {
   "cell_type": "markdown",
   "id": "d7769228",
   "metadata": {},
   "source": [
    "### Imprimindo a resposta"
   ]
  },
  {
   "cell_type": "code",
   "execution_count": 4,
   "id": "a8364f7b",
   "metadata": {},
   "outputs": [
    {
     "data": {
      "text/plain": [
       "'Fruta redonda e saborosa.'"
      ]
     },
     "execution_count": 4,
     "metadata": {},
     "output_type": "execute_result"
    }
   ],
   "source": [
    "resposta.choices[0].message.content"
   ]
  },
  {
   "cell_type": "markdown",
   "id": "a3578d67",
   "metadata": {},
   "source": [
    "##### Se eu quero continuar a conversa, tenho que adicionar tambem a resposta do modelo"
   ]
  },
  {
   "cell_type": "code",
   "execution_count": 5,
   "id": "f656a151",
   "metadata": {},
   "outputs": [],
   "source": [
    "mensagens.append({'role': 'assistant', 'content': resposta.choices[0].message.content})"
   ]
  },
  {
   "cell_type": "code",
   "execution_count": 6,
   "id": "e0d246c2",
   "metadata": {},
   "outputs": [
    {
     "data": {
      "text/plain": [
       "[{'role': 'user', 'content': 'O que é uma maçã em 5 palavras?'},\n",
       " {'role': 'assistant', 'content': 'Fruta redonda e saborosa.'}]"
      ]
     },
     "execution_count": 6,
     "metadata": {},
     "output_type": "execute_result"
    }
   ],
   "source": [
    "# Verificando todo o conteudo\n",
    "mensagens"
   ]
  },
  {
   "cell_type": "markdown",
   "id": "7d04bc8e",
   "metadata": {},
   "source": [
    "### Enviando proxima pergunta"
   ]
  },
  {
   "cell_type": "code",
   "execution_count": 7,
   "id": "a3ab3f18",
   "metadata": {},
   "outputs": [],
   "source": [
    "mensagens.append({'role': 'user', 'content': 'E qual é a sua cor?'})"
   ]
  },
  {
   "cell_type": "markdown",
   "id": "8d0ac62f",
   "metadata": {},
   "source": [
    "### Capturando e exibindo resposta"
   ]
  },
  {
   "cell_type": "code",
   "execution_count": 9,
   "id": "97b8195e",
   "metadata": {},
   "outputs": [],
   "source": [
    "resposta = client.chat.completions.create(\n",
    "    messages=mensagens,\n",
    "    model='gpt-3.5-turbo-0125',\n",
    "    max_tokens=1000,\n",
    "    temperature=0\n",
    ")"
   ]
  },
  {
   "cell_type": "code",
   "execution_count": 10,
   "id": "9819a41b",
   "metadata": {},
   "outputs": [
    {
     "data": {
      "text/plain": [
       "'Vermelha ou verde, dependendo da variedade.'"
      ]
     },
     "execution_count": 10,
     "metadata": {},
     "output_type": "execute_result"
    }
   ],
   "source": [
    "resposta.choices[0].message.content"
   ]
  },
  {
   "cell_type": "markdown",
   "id": "613796cf",
   "metadata": {},
   "source": [
    "# Para isso, podemos criar uma função iterativa \n",
    "\n",
    "\n",
    "##### exclude_none e model_dump = Detalhes abaixo"
   ]
  },
  {
   "cell_type": "code",
   "execution_count": 11,
   "id": "98790d94",
   "metadata": {},
   "outputs": [],
   "source": [
    "# Definindo a função e passando como parametro as mensagens e os parametros padrao\n",
    "\n",
    "def geracao_texto(mensagens, model='gpt-3.5-turbo-0125', max_tokens=1000, temperature=0):\n",
    "\n",
    "    # Capturando a resposta do modelo\n",
    "    resposta = client.chat.completions.create(   \n",
    "        messages=mensagens,\n",
    "        model=model,\n",
    "        max_tokens=max_tokens,\n",
    "        temperature=temperature\n",
    "    )\n",
    "    \n",
    "    print(resposta.choices[0].message.content)     # Imprimindo a resposta do modelo\n",
    "\n",
    "    # Adicionado a resposta do modelo\n",
    "    mensagens.append(resposta.choices[0].message.model_dump(exclude_none=True)) \n",
    "     \n",
    "\n",
    "    return mensagens  # Retornando as mensagens"
   ]
  },
  {
   "cell_type": "markdown",
   "id": "1040b6ee",
   "metadata": {},
   "source": [
    "### Mandando as mensagens do usuario com a nova função e ja recebendo a resposta"
   ]
  },
  {
   "cell_type": "code",
   "execution_count": 12,
   "id": "babb5b7c",
   "metadata": {},
   "outputs": [
    {
     "name": "stdout",
     "output_type": "stream",
     "text": [
      "Fruta redonda e saborosa.\n"
     ]
    }
   ],
   "source": [
    "mensagens = [{'role': 'user', 'content': 'O que é uma maçã em 5 palavras?'}]\n",
    "mensagens = geracao_texto(mensagens)"
   ]
  },
  {
   "cell_type": "markdown",
   "id": "ab2b2182",
   "metadata": {},
   "source": [
    "### Continuando a conversa"
   ]
  },
  {
   "cell_type": "code",
   "execution_count": 13,
   "id": "960b61ab",
   "metadata": {},
   "outputs": [
    {
     "name": "stdout",
     "output_type": "stream",
     "text": [
      "Vermelha, verde ou amarela.\n"
     ]
    }
   ],
   "source": [
    "mensagens.append({'role': 'user', 'content': 'E qual é a sua cor?'})\n",
    "mensagens = geracao_texto(mensagens)"
   ]
  },
  {
   "cell_type": "code",
   "execution_count": null,
   "id": "1fe8e116",
   "metadata": {},
   "outputs": [],
   "source": []
  },
  {
   "cell_type": "code",
   "execution_count": null,
   "id": "ee8cc2d3",
   "metadata": {},
   "outputs": [],
   "source": []
  },
  {
   "cell_type": "markdown",
   "id": "b818d777",
   "metadata": {},
   "source": [
    "# Explorando classe de resposta"
   ]
  },
  {
   "cell_type": "markdown",
   "id": "893ff3c6",
   "metadata": {},
   "source": [
    "##### Model_dump = Ja passa a resposta limpa, para evitar todos os itens descenessarios (detalhes abaixo)\n",
    "##### Exclude_none = Excluir automaticamente campos None dos objetos JSON, resultando em um JSON limpo e conciso.\n"
   ]
  },
  {
   "cell_type": "code",
   "execution_count": 14,
   "id": "8c67eae1",
   "metadata": {},
   "outputs": [],
   "source": [
    "\n",
    "mensagens = [{'role': 'user', 'content': 'O que é uma maçã em 5 palavras?'}]\n",
    "resposta = client.chat.completions.create(\n",
    "    messages=mensagens,\n",
    "    model='gpt-3.5-turbo-0125',\n",
    "    max_tokens=1000,\n",
    "    temperature=0\n",
    ")"
   ]
  },
  {
   "cell_type": "code",
   "execution_count": 15,
   "id": "a3cd2b1a",
   "metadata": {},
   "outputs": [
    {
     "data": {
      "text/plain": [
       "ChatCompletionMessage(content='Fruta redonda e saborosa.', role='assistant', function_call=None, tool_calls=None)"
      ]
     },
     "execution_count": 15,
     "metadata": {},
     "output_type": "execute_result"
    }
   ],
   "source": [
    "# Resposta completa\n",
    "resposta.choices[0].message"
   ]
  },
  {
   "cell_type": "code",
   "execution_count": 16,
   "id": "1140e7a6",
   "metadata": {},
   "outputs": [
    {
     "data": {
      "text/plain": [
       "{'content': 'Fruta redonda e saborosa.',\n",
       " 'role': 'assistant',\n",
       " 'function_call': None,\n",
       " 'tool_calls': None}"
      ]
     },
     "execution_count": 16,
     "metadata": {},
     "output_type": "execute_result"
    }
   ],
   "source": [
    "# Com model Dump\n",
    "resposta.choices[0].message.model_dump()"
   ]
  },
  {
   "cell_type": "code",
   "execution_count": 17,
   "id": "39cc572a",
   "metadata": {},
   "outputs": [
    {
     "data": {
      "text/plain": [
       "{'content': 'Fruta redonda e saborosa.', 'role': 'assistant'}"
      ]
     },
     "execution_count": 17,
     "metadata": {},
     "output_type": "execute_result"
    }
   ],
   "source": [
    "# Model Dump e exclude_none\n",
    "resposta.choices[0].message.model_dump(exclude_none=True)"
   ]
  },
  {
   "cell_type": "code",
   "execution_count": 18,
   "id": "77d1dd05",
   "metadata": {},
   "outputs": [
    {
     "data": {
      "text/plain": [
       "CompletionUsage(completion_tokens=9, prompt_tokens=20, total_tokens=29)"
      ]
     },
     "execution_count": 18,
     "metadata": {},
     "output_type": "execute_result"
    }
   ],
   "source": [
    "# Uso de Tokens na resposta\n",
    "\n",
    "resposta.usage"
   ]
  },
  {
   "cell_type": "markdown",
   "id": "4a2f9579",
   "metadata": {},
   "source": [
    "## Explorando max_tokens e temperature"
   ]
  },
  {
   "cell_type": "code",
   "execution_count": 19,
   "id": "296c895b",
   "metadata": {},
   "outputs": [
    {
     "name": "stdout",
     "output_type": "stream",
     "text": [
      "Fruta red\n"
     ]
    }
   ],
   "source": [
    "# max_tokens = Limita o tamanho da resposta. Mas lembrando: Tokens != Palavras\n",
    "\n",
    "mensagens = [{'role': 'user', 'content': 'O que é uma maçã em 5 palavras?'}]\n",
    "mensagens = geracao_texto(mensagens, max_tokens=3)"
   ]
  },
  {
   "cell_type": "code",
   "execution_count": 20,
   "id": "3235aa50",
   "metadata": {},
   "outputs": [
    {
     "name": "stdout",
     "output_type": "stream",
     "text": [
      "Uma maçã é o fruto da macieira, uma árvore pertencente à família Rosaceae. Possui uma casca geralmente vermelha ou verde, polpa branca e suculenta e sementes no seu interior. É uma fruta muito popular e amplamente consumida em todo o mundo, sendo conhecida por seu sabor adocicado e sua textura crocante. Além disso, é uma excelente fonte de vitaminas, fibras e antioxidantes, trazendo diversos benefícios para a saúde.\n"
     ]
    }
   ],
   "source": [
    "# temperature = Quao aleatorio a resposta será? 0 é sempre a mesma resposta, 1 = Altera a resposta\n",
    "\n",
    "mensagens = [{'role': 'user', 'content': 'O que é uma maçã?'}]\n",
    "mensagens = geracao_texto(mensagens, temperature=1)"
   ]
  },
  {
   "cell_type": "code",
   "execution_count": null,
   "id": "1a181775",
   "metadata": {},
   "outputs": [],
   "source": []
  },
  {
   "cell_type": "markdown",
   "id": "1f7e088d",
   "metadata": {},
   "source": [
    "# Respondendo de forma gradativa"
   ]
  },
  {
   "cell_type": "markdown",
   "id": "9e81bb8d",
   "metadata": {},
   "source": [
    "#### Notamos que ele dá toda a resposta completa, mas não é isso que ocorre em um chat, precisamos que ele vá respondendo aos poucos, como se tivesse conversando."
   ]
  },
  {
   "cell_type": "markdown",
   "id": "649bb9ce",
   "metadata": {},
   "source": [
    "### Vamos enviar a pergunta e capturar a resposta\n",
    "\n",
    "stream= Enviar resposta aos poucos"
   ]
  },
  {
   "cell_type": "code",
   "execution_count": 24,
   "id": "479828ce",
   "metadata": {},
   "outputs": [],
   "source": [
    "mensagens = [{'role': 'user', 'content': 'crie uma história sobre uma viagem a marte'}]\n",
    "\n",
    "resposta = client.chat.completions.create(\n",
    "    messages=mensagens,\n",
    "    model='gpt-3.5-turbo-0125',\n",
    "    max_tokens=1000,\n",
    "    temperature=0,\n",
    "    stream=True\n",
    ")"
   ]
  },
  {
   "cell_type": "markdown",
   "id": "bb278524",
   "metadata": {},
   "source": [
    "### Imprimindo a resposta gradativamente"
   ]
  },
  {
   "cell_type": "code",
   "execution_count": 25,
   "id": "0d78323a",
   "metadata": {},
   "outputs": [
    {
     "name": "stdout",
     "output_type": "stream",
     "text": [
      "Era o ano de 2050 e a humanidade finalmente havia conseguido enviar uma missão tripulada para Marte. A nave espacial, batizada de \"Explorador Vermelho\", estava pronta para decolar com uma equipe de astronautas altamente treinados e equipada com tecnologia de ponta.\n",
      "\n",
      "A viagem até Marte durou meses, mas finalmente a nave chegou ao planeta vermelho. Os astronautas ficaram maravilhados com a paisagem árida e desolada, mas ao mesmo tempo fascinados com a possibilidade de explorar um novo mundo.\n",
      "\n",
      "Eles desembarcaram na superfície de Marte e começaram a explorar, coletando amostras de solo e rochas para análise. Enquanto isso, a equipe na Terra monitorava a missão de perto, ansiosa para descobrir mais sobre o planeta vizinho.\n",
      "\n",
      "Durante a exploração, os astronautas descobriram evidências de vida passada em Marte, o que causou grande comoção na comunidade científica. Eles também encontraram vestígios de antigas civilizações marcianas, o que levantou ainda mais questões sobre a história do planeta.\n",
      "\n",
      "Após semanas de exploração, a equipe decidiu retornar à Terra, levando consigo as descobertas incríveis que fizeram em Marte. A viagem de volta foi longa e cansativa, mas os astronautas estavam felizes por terem sido parte de uma missão tão importante e emocionante.\n",
      "\n",
      "Quando finalmente pousaram de volta na Terra, foram recebidos como heróis e suas descobertas foram aclamadas como um marco na história da exploração espacial. A viagem a Marte havia sido um sucesso e abriu as portas para novas missões e descobertas no espaço sideral."
     ]
    }
   ],
   "source": [
    "resposta_completa = ''\n",
    "for stream_resposta in resposta:               # Iterando sobre cada parte da respota\n",
    "    texto = stream_resposta.choices[0].delta.content  # Pegar so o texto, sem todos aqueles parametros\n",
    "    if texto:\n",
    "        resposta_completa += texto  # Se ainda houver texto, adicione na resposta completa\n",
    "        print(texto, end='')  # end='' = Va escrevendo na mesma linha"
   ]
  },
  {
   "cell_type": "markdown",
   "id": "6ca1a692",
   "metadata": {},
   "source": [
    "## Imprimindo a resposta completa"
   ]
  },
  {
   "cell_type": "code",
   "execution_count": 26,
   "id": "3f084e43",
   "metadata": {},
   "outputs": [
    {
     "name": "stdout",
     "output_type": "stream",
     "text": [
      "Era o ano de 2050 e a humanidade finalmente havia conseguido enviar uma missão tripulada para Marte. A nave espacial, batizada de \"Explorador Vermelho\", estava pronta para decolar com uma equipe de astronautas altamente treinados e equipada com tecnologia de ponta.\n",
      "\n",
      "A viagem até Marte durou meses, mas finalmente a nave chegou ao planeta vermelho. Os astronautas ficaram maravilhados com a paisagem árida e desolada, mas ao mesmo tempo fascinados com a possibilidade de explorar um novo mundo.\n",
      "\n",
      "Eles desembarcaram na superfície de Marte e começaram a explorar, coletando amostras de solo e rochas para análise. Enquanto isso, a equipe na Terra monitorava a missão de perto, ansiosa para descobrir mais sobre o planeta vizinho.\n",
      "\n",
      "Durante a exploração, os astronautas descobriram evidências de vida passada em Marte, o que causou grande comoção na comunidade científica. Eles também encontraram vestígios de antigas civilizações marcianas, o que levantou ainda mais questões sobre a história do planeta.\n",
      "\n",
      "Após semanas de exploração, a equipe decidiu retornar à Terra, levando consigo as descobertas incríveis que fizeram em Marte. A viagem de volta foi longa e cansativa, mas os astronautas estavam felizes por terem sido parte de uma missão tão importante e emocionante.\n",
      "\n",
      "Quando finalmente pousaram de volta na Terra, foram recebidos como heróis e suas descobertas foram aclamadas como um marco na história da exploração espacial. A viagem a Marte havia sido um sucesso e abriu as portas para novas missões e descobertas no espaço sideral.\n"
     ]
    }
   ],
   "source": [
    "print(resposta_completa)"
   ]
  }
 ],
 "metadata": {
  "kernelspec": {
   "display_name": "Python 3 (ipykernel)",
   "language": "python",
   "name": "python3"
  },
  "language_info": {
   "codemirror_mode": {
    "name": "ipython",
    "version": 3
   },
   "file_extension": ".py",
   "mimetype": "text/x-python",
   "name": "python",
   "nbconvert_exporter": "python",
   "pygments_lexer": "ipython3",
   "version": "3.11.5"
  }
 },
 "nbformat": 4,
 "nbformat_minor": 5
}
