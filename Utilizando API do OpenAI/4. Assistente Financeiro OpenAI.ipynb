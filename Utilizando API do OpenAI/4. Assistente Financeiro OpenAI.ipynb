{
 "cells": [
  {
   "cell_type": "code",
   "execution_count": null,
   "id": "ffdfae07",
   "metadata": {},
   "outputs": [],
   "source": []
  },
  {
   "cell_type": "code",
   "execution_count": 1,
   "id": "d9ed245b",
   "metadata": {},
   "outputs": [],
   "source": [
    "import json\n",
    "import yfinance as yf\n",
    "import time\n",
    "\n",
    "import openai\n",
    "from dotenv import load_dotenv, find_dotenv\n",
    "\n",
    "_ = load_dotenv(find_dotenv())\n",
    "\n",
    "client = openai.Client()"
   ]
  },
  {
   "cell_type": "markdown",
   "id": "835e43fd",
   "metadata": {},
   "source": [
    "# retorna_cotacao_acao_historica"
   ]
  },
  {
   "cell_type": "code",
   "execution_count": 2,
   "id": "802749dc",
   "metadata": {},
   "outputs": [],
   "source": [
    "def retorna_cotacao_acao_historica(\n",
    "        ticker,\n",
    "        periodo='1mo'\n",
    "):\n",
    "    \n",
    "    ticker = yf.Ticker(ticker)\n",
    "    hist = ticker.history(period=periodo)['Close']\n",
    "    hist.index = hist.index.strftime('%Y-%m-%d')  # Formata o índice do DataFrame hist para strings no formato 'AAAA-MM-DD'.\n",
    "    hist = round(hist, 2)   \n",
    "    \n",
    "    # Verifica se o DataFrame tem mais de 30 registros. Se tiver,  calcula um slice_size (tamanho fatia) dividindo por 30.\n",
    "    # E reduz tamanho pegando um registro a cada slice_size, começando do final e revertendo para manter na sequência original.\n",
    "    \n",
    "    if len(hist) > 30:\n",
    "        slice_size = int(len(hist) / 30)\n",
    "        hist = hist.iloc[::-slice_size][::-1]\n",
    "        \n",
    "    return hist.to_json() # Passar como dicionario, e não como DF\n",
    "\n",
    "\n",
    "\n",
    "# Mapeando função\n",
    "funcoes_disponiveis = {'retorna_cotacao_acao_historica': retorna_cotacao_acao_historica}"
   ]
  },
  {
   "cell_type": "markdown",
   "id": "9f47419a",
   "metadata": {},
   "source": [
    "# Tools"
   ]
  },
  {
   "cell_type": "code",
   "execution_count": 3,
   "id": "42146c07",
   "metadata": {},
   "outputs": [],
   "source": [
    "tools = [\n",
    "    {\n",
    "        'type': 'function',\n",
    "        'function': {\n",
    "            'name': 'retorna_cotacao_acao_historica',\n",
    "            'description': 'Retorna a cotação diária histórica para uma ação da bovespa',\n",
    "            'parameters': {\n",
    "                'type': 'object',\n",
    "                'properties': {\n",
    "                    'ticker': {\n",
    "                        'type': 'string',\n",
    "                        'description': 'O ticker da ação. Exemplo: \"ABEV3.SA\" para ambev, \"PETR4.SA\" para petrobras, etc'\n",
    "                    },\n",
    "                    'periodo': {\n",
    "                        'type': 'string',\n",
    "                        'description': 'O período que será retornado de dados históriocos \\\n",
    "                                        sendo \"1mo\" equivalente a um mês de dados, \"1d\" a \\\n",
    "                                        1 dia e \"1y\" a 1 ano',\n",
    "                        'enum': [\"1d\",\"5d\",\"1mo\",\"6mo\",\"1y\",\"5y\",\"10y\",\"ytd\",\"max\"]  # API aceita somente esses dias\n",
    "                    }\n",
    "                }\n",
    "            }\n",
    "        }\n",
    "    }\n",
    "\n",
    "]\n"
   ]
  },
  {
   "cell_type": "markdown",
   "id": "d6cf48e9",
   "metadata": {},
   "source": [
    "# Gera Texto e  tool_calls"
   ]
  },
  {
   "cell_type": "code",
   "execution_count": 4,
   "id": "f273e847",
   "metadata": {},
   "outputs": [],
   "source": [
    "def gera_texto(mensagens):\n",
    "    resposta = client.chat.completions.create(\n",
    "        messages=mensagens,\n",
    "        model='gpt-3.5-turbo-0125',\n",
    "        tools=tools,\n",
    "        tool_choice='auto',\n",
    "        #stream=True,\n",
    "    )\n",
    "    \n",
    "    tool_calls = resposta.choices[0].message.tool_calls\n",
    "\n",
    "    if tool_calls:\n",
    "        mensagens.append(resposta.choices[0].message)\n",
    "        for tool_call in tool_calls:\n",
    "            func_name = tool_call.function.name\n",
    "            function_to_call = funcoes_disponiveis[func_name]\n",
    "            func_args = json.loads(tool_call.function.arguments)\n",
    "            func_return = function_to_call(**func_args)  # Passa todos os parametros do 'func_args', para a function_to_call\n",
    "            mensagens.append({\n",
    "                'tool_call_id': tool_call.id,\n",
    "                'role': 'tool',\n",
    "                'name': func_name,\n",
    "                'content': func_return\n",
    "            })\n",
    "            \n",
    "        segunda_resposta = client.chat.completions.create(  #Capturando a resposta final do modelo, depois de utilizar a funcao\n",
    "            messages=mensagens,\n",
    "            model='gpt-3.5-turbo-0125',\n",
    "        )\n",
    "        mensagens.append(segunda_resposta.choices[0].message)\n",
    "    \n",
    "    print(\"Assistant: \", end='')\n",
    "          \n",
    "    for caractere in mensagens[-1].content:\n",
    "        print(caractere, end='', flush=True)  # Impede que a saída seja armazenada em buffer\n",
    "        time.sleep(0.1)\n",
    "          \n",
    "    #print(mensagens)\n",
    "    #mensagemm = mensagens[-1].content\n",
    "    \n",
    "    #print(f'Assistant: {mensagens[-1].content}') # Imprimindo a resposta\n",
    "\n",
    "    return mensagens"
   ]
  },
  {
   "cell_type": "markdown",
   "id": "9dbf530b",
   "metadata": {},
   "source": [
    "# Geração Chat"
   ]
  },
  {
   "cell_type": "code",
   "execution_count": 5,
   "id": "acb9f7fa",
   "metadata": {},
   "outputs": [
    {
     "name": "stdout",
     "output_type": "stream",
     "text": [
      "Bem-vindo ao ChatBot Financeiro da Asimov.\n",
      "User: cotação atual PETR4\n",
      "Assistant: A cotação atual da ação PETR4 é de R$ 36,61."
     ]
    },
    {
     "name": "stderr",
     "output_type": "stream",
     "text": [
      "\n",
      "KeyboardInterrupt\n",
      "\n"
     ]
    }
   ],
   "source": [
    "if __name__ == '__main__':\n",
    "\n",
    "    print('Bem-vindo ao ChatBot Financeiro da Asimov.')\n",
    "\n",
    "    while True:\n",
    "        input_usuario = input('User: ')\n",
    "        mensagens = [{'role': 'user', 'content': input_usuario}]\n",
    "        mensagens = gera_texto(mensagens)"
   ]
  },
  {
   "cell_type": "code",
   "execution_count": null,
   "id": "526e5d78",
   "metadata": {},
   "outputs": [],
   "source": []
  },
  {
   "cell_type": "code",
   "execution_count": null,
   "id": "ecffc3f4",
   "metadata": {},
   "outputs": [],
   "source": [
    "ticker = yf.Ticker(\"PETR4.SA\")"
   ]
  },
  {
   "cell_type": "code",
   "execution_count": null,
   "id": "8bd87ce1",
   "metadata": {},
   "outputs": [],
   "source": [
    "ticker.dividends"
   ]
  },
  {
   "cell_type": "code",
   "execution_count": null,
   "id": "836a1fc9",
   "metadata": {},
   "outputs": [],
   "source": []
  },
  {
   "cell_type": "code",
   "execution_count": null,
   "id": "bd4c7d97",
   "metadata": {},
   "outputs": [],
   "source": [
    "ticker.splits"
   ]
  },
  {
   "cell_type": "code",
   "execution_count": null,
   "id": "147bf346",
   "metadata": {},
   "outputs": [],
   "source": [
    "ticker.news"
   ]
  }
 ],
 "metadata": {
  "kernelspec": {
   "display_name": "Python 3 (ipykernel)",
   "language": "python",
   "name": "python3"
  },
  "language_info": {
   "codemirror_mode": {
    "name": "ipython",
    "version": 3
   },
   "file_extension": ".py",
   "mimetype": "text/x-python",
   "name": "python",
   "nbconvert_exporter": "python",
   "pygments_lexer": "ipython3",
   "version": "3.11.5"
  }
 },
 "nbformat": 4,
 "nbformat_minor": 5
}
