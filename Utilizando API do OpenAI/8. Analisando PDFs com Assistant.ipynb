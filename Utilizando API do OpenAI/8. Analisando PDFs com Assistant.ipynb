{
 "cells": [
  {
   "cell_type": "code",
   "execution_count": 1,
   "id": "0b0a7bea",
   "metadata": {},
   "outputs": [],
   "source": [
    "import openai\n",
    "from dotenv import load_dotenv, find_dotenv\n",
    "\n",
    "_ = load_dotenv(find_dotenv())\n",
    "\n",
    "client = openai.Client()"
   ]
  },
  {
   "cell_type": "markdown",
   "id": "ff092509",
   "metadata": {},
   "source": [
    "## Criar e gerenciar um repositório de vetores (vector store) onde arquivos PDF podem ser armazenados e processados para recuperação de informações de forma eficiente."
   ]
  },
  {
   "cell_type": "code",
   "execution_count": 2,
   "id": "f73c155e",
   "metadata": {},
   "outputs": [
    {
     "name": "stdout",
     "output_type": "stream",
     "text": [
      "completed\n",
      "FileCounts(cancelled=0, completed=1, failed=0, in_progress=0, total=1)\n"
     ]
    }
   ],
   "source": [
    "# Cria um repositório de vetores chamado \"Financial Statements\"\n",
    "vector_store = client.beta.vector_stores.create(name=\"Financial Statements\")\n",
    "\n",
    "# Lista os caminhos dos arquivos PDF a serem carregados\n",
    "file_paths = [\"arquivos/divulgacao_resultado_ambev_4T23.pdf\"]  # Pode ser mais de um\n",
    "\n",
    "# Abre os arquivos em modo de leitura binária e armazena os streams em uma lista\n",
    "file_streams = [open(path, \"rb\") for path in file_paths]\n",
    "\n",
    "# Utiliza-se função da API para carregar os arquivos no repositório de vetores e monitorar o status do upload até que a conclusão.\n",
    "file_batch = client.beta.vector_stores.file_batches.upload_and_poll(\n",
    "  vector_store_id=vector_store.id, files=file_streams\n",
    ")\n",
    "\n",
    "# Imprime o status do batch de arquivos para verificar se a operação foi concluída com sucesso\n",
    "print(file_batch.status)\n",
    "\n",
    "# Imprime a contagem de arquivos processados no batch\n",
    "print(file_batch.file_counts)\n"
   ]
  },
  {
   "cell_type": "markdown",
   "id": "cc7acd87",
   "metadata": {},
   "source": [
    "# Cria o assistant"
   ]
  },
  {
   "cell_type": "code",
   "execution_count": 14,
   "id": "d07e4f3d",
   "metadata": {},
   "outputs": [],
   "source": [
    "assistant = client.beta.assistants.create(\n",
    "  name=\"Financial Analyst Assistant\",\n",
    "  instructions=\"Você é um analista de demonstralções financeiras da Ambev. Você tem acesso a demontração de resultado do \\\n",
    "                4º trimestre de 2023. Baseado apenas no documento que você tem acesso, responda as perguntas do usuário.\",\n",
    "  model=\"gpt-3.5-turbo-0125\",  # gpt-4o\n",
    "  tools=[{\"type\": \"file_search\"}],\n",
    "  #tool_resources={\"file_search\": {\"vector_store_ids\": [vector_store.id]}}\n",
    ")"
   ]
  },
  {
   "cell_type": "code",
   "execution_count": null,
   "id": "e4d0aa8a",
   "metadata": {},
   "outputs": [],
   "source": []
  },
  {
   "cell_type": "markdown",
   "id": "0c47a6e9",
   "metadata": {},
   "source": [
    "### Se o seu objetivo é apenas processar e armazenar os arquivos no repositório de vetores para consultas ou análises, o primeiro upload é suficiente. Se você precisar que o assistente utilize o arquivo diretamente, então o segundo upload pode ser necessário."
   ]
  },
  {
   "cell_type": "code",
   "execution_count": 15,
   "id": "45d590bf",
   "metadata": {},
   "outputs": [],
   "source": [
    "# Upload the user provided file to OpenAI\n",
    "message_file = client.files.create(\n",
    "  file=open(\"arquivos/divulgacao_resultado_ambev_4T23.pdf\", \"rb\"), purpose=\"assistants\"\n",
    ")"
   ]
  },
  {
   "cell_type": "markdown",
   "id": "8ccc54fb",
   "metadata": {},
   "source": [
    "# Cria a thread"
   ]
  },
  {
   "cell_type": "code",
   "execution_count": 16,
   "id": "a5981e97",
   "metadata": {},
   "outputs": [
    {
     "name": "stdout",
     "output_type": "stream",
     "text": [
      "ToolResourcesFileSearch(vector_store_ids=['vs_y3whrEIrGPcJA2ngqk1O5Q4Y'])\n"
     ]
    }
   ],
   "source": [
    "# Criar um tópico e anexar o arquivo à mensagem\n",
    "thread = client.beta.threads.create(\n",
    "  messages=[\n",
    "    {\n",
    "      \"role\": \"user\",\n",
    "      \"content\": \"Qual o volume de cerja vendido no Brasil?\",\n",
    "       # Anexar o novo arquivo à mensagem\n",
    "        \"attachments\": [\n",
    "        { \"file_id\": message_file.id, \"tools\": [{\"type\": \"file_search\"}] }\n",
    "      ],\n",
    "      \n",
    "    }\n",
    "  ]\n",
    ")\n",
    " \n",
    "# O tópico agora tem um repositório de vetores com esse arquivo em seus recursos de ferramentas.\n",
    "print(thread.tool_resources.file_search)"
   ]
  },
  {
   "cell_type": "code",
   "execution_count": null,
   "id": "4894789f",
   "metadata": {},
   "outputs": [],
   "source": []
  },
  {
   "cell_type": "markdown",
   "id": "db10a63b",
   "metadata": {},
   "source": [
    "## Roda a thread no assistant"
   ]
  },
  {
   "cell_type": "code",
   "execution_count": 17,
   "id": "ab3e750e",
   "metadata": {},
   "outputs": [],
   "source": [
    "run = client.beta.threads.runs.create(\n",
    "    thread_id=thread.id,\n",
    "    assistant_id=assistant.id,\n",
    "    instructions='O nome do usuário é Adriano.'\n",
    ")"
   ]
  },
  {
   "cell_type": "markdown",
   "id": "7b71e5ba",
   "metadata": {},
   "source": [
    "## Aguarda a thread rodar"
   ]
  },
  {
   "cell_type": "code",
   "execution_count": 18,
   "id": "cc04b39a",
   "metadata": {},
   "outputs": [
    {
     "name": "stdout",
     "output_type": "stream",
     "text": [
      "completed\n"
     ]
    }
   ],
   "source": [
    "import time\n",
    "\n",
    "while run.status in ['queued', 'in_progress', 'cancelling']:\n",
    "    time.sleep(1)\n",
    "    run = client.beta.threads.runs.retrieve(\n",
    "        thread_id=thread.id,\n",
    "        run_id=run.id\n",
    "    )\n",
    "\n",
    "print(run.status)"
   ]
  },
  {
   "cell_type": "markdown",
   "id": "f2b0bf80",
   "metadata": {},
   "source": [
    "## Verifica a resposta"
   ]
  },
  {
   "cell_type": "code",
   "execution_count": 19,
   "id": "6fa5456c",
   "metadata": {},
   "outputs": [
    {
     "name": "stdout",
     "output_type": "stream",
     "text": [
      "SyncCursorPage[Message](data=[Message(id='msg_KDzNtRzngnARRd6mltqaLRva', assistant_id='asst_7vMxL5vRXuOMcWwAJM4BekHJ', attachments=[], completed_at=None, content=[TextContentBlock(text=Text(annotations=[FileCitationAnnotation(end_index=117, file_citation=FileCitation(file_id='file-lm79bEdjQQHMJmbAIPHJMO8u', quote=None), start_index=105, text='【4:5†source】', type='file_citation'), FileCitationAnnotation(end_index=129, file_citation=FileCitation(file_id='file-lm79bEdjQQHMJmbAIPHJMO8u', quote=None), start_index=117, text='【4:6†source】', type='file_citation'), FileCitationAnnotation(end_index=226, file_citation=FileCitation(file_id='file-lm79bEdjQQHMJmbAIPHJMO8u', quote=None), start_index=214, text='【4:5†source】', type='file_citation'), FileCitationAnnotation(end_index=238, file_citation=FileCitation(file_id='file-lm79bEdjQQHMJmbAIPHJMO8u', quote=None), start_index=226, text='【4:6†source】', type='file_citation'), FileCitationAnnotation(end_index=435, file_citation=FileCitation(file_id='file-lm79bEdjQQHMJmbAIPHJMO8u', quote=None), start_index=423, text='【4:0†source】', type='file_citation'), FileCitationAnnotation(end_index=447, file_citation=FileCitation(file_id='file-lm79bEdjQQHMJmbAIPHJMO8u', quote=None), start_index=435, text='【4:1†source】', type='file_citation')], value='O volume de cerveja vendido no Brasil em 2023 pela Ambev foi de aproximadamente 93 milhões de hectolitros【4:5†source】【4:6†source】. Isso representa uma pequena diminuição de 1,0% em relação ao volume vendido em 2022【4:5†source】【4:6†source】.\\n\\nPara o quarto trimestre de 2023 especificamente, o volume foi de aproximadamente 26,3 milhões de hectolitros, uma diminuição de 1,1% quando comparado ao mesmo período do ano anterior【4:0†source】【4:1†source】.'), type='text')], created_at=1716572888, incomplete_at=None, incomplete_details=None, metadata={}, object='thread.message', role='assistant', run_id='run_73sw9tqzvHSRiKh1wqDGfOgg', status=None, thread_id='thread_yPSz4I5coAmjsHt3fFSZyiba'), Message(id='msg_5XraGwoJljHAyFY2gPt8ziZ5', assistant_id=None, attachments=[Attachment(file_id='file-lm79bEdjQQHMJmbAIPHJMO8u', tools=[FileSearchTool(type='file_search')])], completed_at=None, content=[TextContentBlock(text=Text(annotations=[], value='Qual o volume de cerja vendido no Brasil?'), type='text')], created_at=1716572882, incomplete_at=None, incomplete_details=None, metadata={}, object='thread.message', role='user', run_id=None, status=None, thread_id='thread_yPSz4I5coAmjsHt3fFSZyiba')], object='list', first_id='msg_KDzNtRzngnARRd6mltqaLRva', last_id='msg_5XraGwoJljHAyFY2gPt8ziZ5', has_more=False)\n"
     ]
    }
   ],
   "source": [
    "if run.status == 'completed':\n",
    "    messages = client.beta.threads.messages.list(\n",
    "        thread_id=thread.id\n",
    "    )\n",
    "    print(messages)\n",
    "else:\n",
    "    print('Erro', run.status)"
   ]
  },
  {
   "cell_type": "markdown",
   "id": "b95d9445",
   "metadata": {},
   "source": [
    "### Resposta"
   ]
  },
  {
   "cell_type": "code",
   "execution_count": 20,
   "id": "ad68b412",
   "metadata": {},
   "outputs": [
    {
     "name": "stdout",
     "output_type": "stream",
     "text": [
      "O volume de cerveja vendido no Brasil em 2023 pela Ambev foi de aproximadamente 93 milhões de hectolitros【4:5†source】【4:6†source】. Isso representa uma pequena diminuição de 1,0% em relação ao volume vendido em 2022【4:5†source】【4:6†source】.\n",
      "\n",
      "Para o quarto trimestre de 2023 especificamente, o volume foi de aproximadamente 26,3 milhões de hectolitros, uma diminuição de 1,1% quando comparado ao mesmo período do ano anterior【4:0†source】【4:1†source】.\n"
     ]
    }
   ],
   "source": [
    "print(messages.data[0].content[0].text.value)"
   ]
  },
  {
   "cell_type": "markdown",
   "id": "27e24b15",
   "metadata": {},
   "source": [
    "## Analisando os passos do modelo"
   ]
  },
  {
   "cell_type": "code",
   "execution_count": 10,
   "id": "b5596864",
   "metadata": {},
   "outputs": [],
   "source": [
    "run_steps = client.beta.threads.runs.steps.list(\n",
    "  thread_id=thread.id,\n",
    "  run_id=run.id\n",
    ")"
   ]
  },
  {
   "cell_type": "code",
   "execution_count": 11,
   "id": "7b8a5990",
   "metadata": {},
   "outputs": [
    {
     "name": "stdout",
     "output_type": "stream",
     "text": [
      " \n",
      "======= Step > tool_calls\n",
      "FileSearchToolCall(id='call_ydfJqNLwq63uD8edlgsQngrn', file_search={}, type='file_search')\n",
      " \n",
      "======= Step > message_creation\n",
      "No Brasil, foram vendidos aproximadamente 93.111,6 mil hectolitros de cerveja, com uma variação de -1,0% em relação ao período anterior【4:2†source】.\n"
     ]
    }
   ],
   "source": [
    "for step in run_steps.data[::-1]:\n",
    "    print(\" \")\n",
    "    print('======= Step >', step.step_details.type)\n",
    "    if step.step_details.type == 'tool_calls':\n",
    "        for tool_call in step.step_details.tool_calls:\n",
    "            if tool_call.type == 'file_search':\n",
    "                print(tool_call)\n",
    "            else:\n",
    "                print('```')\n",
    "                print(tool_call.code_interpreter.input)\n",
    "                print('```')\n",
    "                if tool_call.code_interpreter.outputs[0].type == 'logs':\n",
    "                    print('Result')\n",
    "                    print(tool_call.code_interpreter.outputs[0].logs)\n",
    "                    \n",
    "    if step.step_details.type == 'message_creation':\n",
    "        message = client.beta.threads.messages.retrieve(\n",
    "            thread_id=thread.id,\n",
    "            message_id=step.step_details.message_creation.message_id\n",
    "        )\n",
    "        if message.content[0].type == 'text':\n",
    "            message = client.beta.threads.messages.retrieve(\n",
    "                thread_id=thread.id,\n",
    "                message_id=step.step_details.message_creation.message_id\n",
    "            )\n",
    "            print(message.content[0].text.value)\n",
    "\n",
    "        if message.content[0].type == 'image_file':\n",
    "            message = client.beta.threads.messages.retrieve(\n",
    "                thread_id=thread.id,\n",
    "                message_id=step.step_details.message_creation.message_id\n",
    "            )\n",
    "            file_id = message.content[0].image_file.file_id\n",
    "            image_data = client.files.content(file_id)\n",
    "\n",
    "            with open(f'arquivos/{file_id}.png', 'wb') as file:\n",
    "                file.write(image_data.read())\n",
    "\n",
    "            import matplotlib.pyplot as plt\n",
    "            import matplotlib.image as mpimg\n",
    "\n",
    "            img = mpimg.imread(f'arquivos/{file_id}.png')\n",
    "            fig, ax = plt.subplots()\n",
    "            ax.set_axis_off()\n",
    "            ax.imshow(img)\n",
    "            plt.show()\n",
    "        "
   ]
  },
  {
   "cell_type": "code",
   "execution_count": 12,
   "id": "5242944f",
   "metadata": {},
   "outputs": [
    {
     "data": {
      "text/plain": [
       "MessageCreationStepDetails(message_creation=MessageCreation(message_id='msg_Mio6iorUuZ8TBdv3M1uGiny2'), type='message_creation')"
      ]
     },
     "execution_count": 12,
     "metadata": {},
     "output_type": "execute_result"
    }
   ],
   "source": [
    "step.step_details"
   ]
  },
  {
   "cell_type": "code",
   "execution_count": 13,
   "id": "aab3ffa0",
   "metadata": {},
   "outputs": [
    {
     "data": {
      "text/plain": [
       "FileSearchToolCall(id='call_ydfJqNLwq63uD8edlgsQngrn', file_search={}, type='file_search')"
      ]
     },
     "execution_count": 13,
     "metadata": {},
     "output_type": "execute_result"
    }
   ],
   "source": [
    "tool_call"
   ]
  },
  {
   "cell_type": "code",
   "execution_count": null,
   "id": "07641736",
   "metadata": {},
   "outputs": [],
   "source": []
  }
 ],
 "metadata": {
  "kernelspec": {
   "display_name": "Python 3 (ipykernel)",
   "language": "python",
   "name": "python3"
  },
  "language_info": {
   "codemirror_mode": {
    "name": "ipython",
    "version": 3
   },
   "file_extension": ".py",
   "mimetype": "text/x-python",
   "name": "python",
   "nbconvert_exporter": "python",
   "pygments_lexer": "ipython3",
   "version": "3.11.5"
  }
 },
 "nbformat": 4,
 "nbformat_minor": 5
}
