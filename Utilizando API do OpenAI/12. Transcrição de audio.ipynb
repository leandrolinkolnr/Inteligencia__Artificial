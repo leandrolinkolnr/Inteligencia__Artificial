{
 "cells": [
  {
   "cell_type": "code",
   "execution_count": 1,
   "id": "5242944f",
   "metadata": {},
   "outputs": [],
   "source": [
    "import openai\n",
    "from dotenv import load_dotenv, find_dotenv\n",
    "\n",
    "_ = load_dotenv(find_dotenv())\n",
    "\n",
    "client = openai.Client()"
   ]
  },
  {
   "cell_type": "markdown",
   "id": "9f3250f1",
   "metadata": {},
   "source": [
    "# Transcrição de Audio"
   ]
  },
  {
   "cell_type": "code",
   "execution_count": 2,
   "id": "d1ea0e64",
   "metadata": {},
   "outputs": [
    {
     "name": "stdout",
     "output_type": "stream",
     "text": [
      "Filemon, autor, Paulo, capítulo 1, versículo 1, comentário. Filemon era um crente abastado, tinha um escravo chamado Onésimo, que o furtou algo, provavelmente dinheiro, e fugiu para Roma. Em Roma encontrou-se com Paulo e converteu-se. Paulo intercede por Onésimo. Filemon recebe Onésimo como irmão amado. Versículo 16.\n"
     ]
    }
   ],
   "source": [
    "audio = open('arquivos/audio.mp3', 'rb')\n",
    "transcricao = client.audio.transcriptions.create(\n",
    "    model='whisper-1',\n",
    "    file=audio\n",
    ")\n",
    "print(transcricao.text)"
   ]
  },
  {
   "cell_type": "code",
   "execution_count": null,
   "id": "991c1e3d",
   "metadata": {},
   "outputs": [],
   "source": []
  },
  {
   "cell_type": "markdown",
   "id": "0d923fbd",
   "metadata": {},
   "source": [
    "## Correções\n",
    "\n",
    "#### É possivel corrigir alguns erros passando um prompt"
   ]
  },
  {
   "cell_type": "code",
   "execution_count": 3,
   "id": "a0cffbd7",
   "metadata": {},
   "outputs": [
    {
     "name": "stdout",
     "output_type": "stream",
     "text": [
      "Filemón, autor, Paulo, capitulou o versículo 1, comentário. Filemón era um crente abastado, tinha um escravo chamado Onésimo, que o furtou algo, provavelmente dinheiro, e fugiu para Roma. Em Roma encontrou-se com Paulo e converteu-se. Paulo intercede por Onésimo. Filemón recebe Onésimo como irmão amado. Versículo 16.\n"
     ]
    }
   ],
   "source": [
    "audio = open('arquivos/audio.mp3', 'rb')\n",
    "transcricao = client.audio.transcriptions.create(\n",
    "    model='whisper-1',\n",
    "    file=audio,\n",
    "    prompt='Essa é a transcrição de um versiculo da Biblia Sagrada.'\n",
    ")\n",
    "print(transcricao.text)"
   ]
  },
  {
   "cell_type": "code",
   "execution_count": null,
   "id": "0d3d14c5",
   "metadata": {},
   "outputs": [],
   "source": []
  },
  {
   "cell_type": "markdown",
   "id": "d5b51ce7",
   "metadata": {},
   "source": [
    "## Gerando legendas atraves do audio"
   ]
  },
  {
   "cell_type": "code",
   "execution_count": 4,
   "id": "46fcb840",
   "metadata": {},
   "outputs": [
    {
     "name": "stdout",
     "output_type": "stream",
     "text": [
      "1\n",
      "00:00:00,000 --> 00:00:05,900\n",
      "Filemón, autor, Paulo, capitulou o versículo 1, comentário.\n",
      "\n",
      "2\n",
      "00:00:05,900 --> 00:00:11,900\n",
      "Filemón era um crente abastado, tinha um escravo chamado Onésimo,\n",
      "\n",
      "3\n",
      "00:00:11,900 --> 00:00:17,799\n",
      "que o furtou algo, provavelmente dinheiro, e fugiu para Roma.\n",
      "\n",
      "4\n",
      "00:00:17,799 --> 00:00:21,400\n",
      "Em Roma encontrou-se com Paulo e converteu-se.\n",
      "\n",
      "5\n",
      "00:00:21,400 --> 00:00:23,900\n",
      "Paulo intercede por Onésimo.\n",
      "\n",
      "6\n",
      "00:00:23,900 --> 00:00:27,100\n",
      "Filemón recebe Onésimo como irmão amado.\n",
      "\n",
      "7\n",
      "00:00:27,100 --> 00:00:29,500\n",
      "Versículo 16.\n",
      "\n",
      "\n",
      "\n"
     ]
    }
   ],
   "source": [
    "audio = open('arquivos/audio.mp3', 'rb')\n",
    "transcricao = client.audio.transcriptions.create(\n",
    "    model='whisper-1',\n",
    "    file=audio,\n",
    "    prompt='Essa é a transcrição de um versiculo da Biblia Sagrada.',\n",
    "    response_format='srt'\n",
    ")\n",
    "print(transcricao)"
   ]
  },
  {
   "cell_type": "code",
   "execution_count": null,
   "id": "310bfdb2",
   "metadata": {},
   "outputs": [],
   "source": []
  },
  {
   "cell_type": "markdown",
   "id": "ccdaee56",
   "metadata": {},
   "source": [
    "## Parametro Language \n",
    "\n",
    "#### Podemos escolher a linguagem da transcrição"
   ]
  },
  {
   "cell_type": "code",
   "execution_count": 8,
   "id": "90956008",
   "metadata": {},
   "outputs": [
    {
     "name": "stdout",
     "output_type": "stream",
     "text": [
      "Philemon, author, Paul, chapter 1, versicule 1, Commentary Philemon was a shabby believer. He had a slave called Onesimus, who stole something from him, probably money, and fled to Rome. In Rome he met Paul and converted. Paul intercedes for Onesimus. Philemon receives Onesimus as his beloved brother, versicule 16.\n",
      "\n"
     ]
    }
   ],
   "source": [
    "audio = open('arquivos/audio.mp3', 'rb')\n",
    "transcricao = client.audio.transcriptions.create(\n",
    "    model='whisper-1',\n",
    "    file=audio,\n",
    "    prompt='Essa é a transcrição de um versiculo da Biblia Sagrada.',\n",
    "    response_format='text',\n",
    "    language='en',\n",
    ")\n",
    "print(transcricao)"
   ]
  },
  {
   "cell_type": "code",
   "execution_count": null,
   "id": "023f51d7",
   "metadata": {},
   "outputs": [],
   "source": []
  }
 ],
 "metadata": {
  "kernelspec": {
   "display_name": "Python 3 (ipykernel)",
   "language": "python",
   "name": "python3"
  },
  "language_info": {
   "codemirror_mode": {
    "name": "ipython",
    "version": 3
   },
   "file_extension": ".py",
   "mimetype": "text/x-python",
   "name": "python",
   "nbconvert_exporter": "python",
   "pygments_lexer": "ipython3",
   "version": "3.11.5"
  }
 },
 "nbformat": 4,
 "nbformat_minor": 5
}
