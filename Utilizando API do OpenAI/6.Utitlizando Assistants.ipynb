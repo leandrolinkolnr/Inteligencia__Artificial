{
 "cells": [
  {
   "cell_type": "markdown",
   "id": "4db88af9",
   "metadata": {},
   "source": [
    "# Utilizando Assistantes OpenAI"
   ]
  },
  {
   "cell_type": "markdown",
   "id": "81f3df17",
   "metadata": {},
   "source": [
    "#### Imports e API key"
   ]
  },
  {
   "cell_type": "code",
   "execution_count": 2,
   "id": "0b0a7bea",
   "metadata": {},
   "outputs": [],
   "source": [
    "import openai\n",
    "from dotenv import load_dotenv, find_dotenv\n",
    "\n",
    "_ = load_dotenv(find_dotenv())\n",
    "\n",
    "client = openai.Client()"
   ]
  },
  {
   "cell_type": "markdown",
   "id": "a514fe90",
   "metadata": {},
   "source": [
    "# Objetivo e vantagens Assistant"
   ]
  },
  {
   "cell_type": "markdown",
   "id": "097c8600",
   "metadata": {},
   "source": [
    "#### Permitem criar assistentes virtuais personalizados para tarefas específicas, como atendimento ao cliente, suporte técnico e automação de processos."
   ]
  },
  {
   "cell_type": "markdown",
   "id": "79b142c3",
   "metadata": {},
   "source": [
    "## Vantagens\n",
    "##### Personalização: Ajuste o assistente ao tom e às necessidades do seu negócio.\n",
    "#####  Relevância: Focado em tarefas e contextos específicos, fornecendo respostas e soluções mais precisas.\n",
    "##### Controle Total: Permite ajustar e otimizar continuamente o comportamento e as respostas do assistente conforme as políticas e objetivos da empresa.\n"
   ]
  },
  {
   "cell_type": "code",
   "execution_count": null,
   "id": "29c0f6a1",
   "metadata": {},
   "outputs": [],
   "source": []
  },
  {
   "cell_type": "markdown",
   "id": "a4b16535",
   "metadata": {},
   "source": [
    "# Tipos de Assistant"
   ]
  },
  {
   "cell_type": "markdown",
   "id": "45ec185b",
   "metadata": {},
   "source": [
    "### Code Interpreter:\n",
    "\n",
    "Permite escrever, interpretar e depurar código em várias linguagens de programação. Além de fornecer suporte técnico e tutoria em programação, ele é utilizado para uma ampla gama de tarefas, como análise de dados, automação de processos e desenvolvimento de aplicativos. Sua capacidade de executar operações complexas diretamente no código o torna uma ferramenta poderosa para resolver problemas e desenvolver soluções personalizadas em diversos domínios.\n",
    "\n",
    "### File Search:\n",
    "\n",
    "Ferramenta que permite que assistente encontre informações em documentos externos, como arquivos CSV, PDFs, etc. Ele analisa esses documentos e guarda as informações , quando um usuário faz uma pergunta, o File Search busca nos documentos por informações relevantes para responder à pergunta de forma precisa. É como ter uma biblioteca de informações disponível para o assistente, ajudando-o a responder melhor às perguntas dos usuários.\n",
    "\n",
    "\n",
    "### Function Calling\n",
    "\n",
    "É como um controle remoto que permite ao assistente acionar ações específicas em outros programas ou sistemas. Por exemplo, se você tem um sistema de vendas e o assistente precisa atualizar o estoque de um produto, ele pode \"chamar\" a função responsável por isso no sistema de vendas. É como se o assistente desse um comando para que uma tarefa seja realizada em outro lugar. Isso permite que o assistente faça mais do que apenas responder perguntas, ele pode interagir diretamente com outros sistemas para realizar tarefas específicas."
   ]
  },
  {
   "cell_type": "code",
   "execution_count": null,
   "id": "398fcab0",
   "metadata": {},
   "outputs": [],
   "source": []
  },
  {
   "cell_type": "markdown",
   "id": "d748127d",
   "metadata": {},
   "source": [
    "# Criando o assistant"
   ]
  },
  {
   "cell_type": "code",
   "execution_count": 3,
   "id": "b8385a71",
   "metadata": {},
   "outputs": [],
   "source": [
    "assitant = client.beta.assistants.create(\n",
    "    name=\"Tutor de Matemática da Asimov\",\n",
    "    instructions='Você é um tutor pessoal de matemática da empresa Asimov. \\\n",
    "        Escreva e execute códigos para responder as perguntas de matemática que lhe forem passadas.',\n",
    "    tools=[{'type': 'code_interpreter'}],  # Existem tools ja predefinidos, alem de poder criar um personalizado\n",
    "    model='gpt-3.5-turbo-0125'\n",
    ")"
   ]
  },
  {
   "cell_type": "markdown",
   "id": "ef03a019",
   "metadata": {},
   "source": [
    "## Cria uma thread"
   ]
  },
  {
   "cell_type": "code",
   "execution_count": 4,
   "id": "6e564600",
   "metadata": {},
   "outputs": [],
   "source": [
    "thread = client.beta.threads.create()"
   ]
  },
  {
   "cell_type": "markdown",
   "id": "2dd2acc5",
   "metadata": {},
   "source": [
    "## Adiciona mensagem a thread criada"
   ]
  },
  {
   "cell_type": "code",
   "execution_count": 5,
   "id": "4ba988f8",
   "metadata": {},
   "outputs": [],
   "source": [
    "message = client.beta.threads.messages.create(\n",
    "    thread_id=thread.id,\n",
    "    role='user',\n",
    "    content='Se eu jogar um dado honesto 1000 vezes, qual é a probabilidade de eu obter exatamente 150 vezes o número 6? Resolva com um código'\n",
    ")"
   ]
  },
  {
   "cell_type": "markdown",
   "id": "db10a63b",
   "metadata": {},
   "source": [
    "## Roda a thread no assistant\n",
    "\n",
    "#### Posso passar instruções especificas para essa thread"
   ]
  },
  {
   "cell_type": "code",
   "execution_count": 6,
   "id": "ab3e750e",
   "metadata": {},
   "outputs": [],
   "source": [
    "run = client.beta.threads.runs.create(\n",
    "    thread_id=thread.id,\n",
    "    assistant_id=assitant.id,\n",
    "    instructions='O nome do usuário é Adriano Soares e ele é um usuário Premium.'  # Se tivesse privilegios Premuim, concederia.\n",
    ")"
   ]
  },
  {
   "cell_type": "markdown",
   "id": "7b71e5ba",
   "metadata": {},
   "source": [
    "## Aguarda a thread rodar\n",
    "\n",
    "#### Loop para verificar se a thread ja finalizou ou ainda está em progresso\n",
    "\n",
    "#### Se finalizou, vai parar de rodar"
   ]
  },
  {
   "cell_type": "code",
   "execution_count": 7,
   "id": "cc04b39a",
   "metadata": {},
   "outputs": [],
   "source": [
    "import time\n",
    "\n",
    "while run.status in ['queued', 'in_progress', 'cancelling']:\n",
    "    time.sleep(1)\n",
    "    run = client.beta.threads.runs.retrieve(\n",
    "        thread_id=thread.id,\n",
    "        run_id=run.id\n",
    "    )\n"
   ]
  },
  {
   "cell_type": "code",
   "execution_count": 8,
   "id": "e9d22a02",
   "metadata": {},
   "outputs": [
    {
     "data": {
      "text/plain": [
       "'completed'"
      ]
     },
     "execution_count": 8,
     "metadata": {},
     "output_type": "execute_result"
    }
   ],
   "source": [
    "#Verificando status\n",
    "\n",
    "run.status"
   ]
  },
  {
   "cell_type": "markdown",
   "id": "f2b0bf80",
   "metadata": {},
   "source": [
    "# Capturando e imprimindo a resposta"
   ]
  },
  {
   "cell_type": "code",
   "execution_count": 10,
   "id": "6fa5456c",
   "metadata": {},
   "outputs": [
    {
     "name": "stdout",
     "output_type": "stream",
     "text": [
      "SyncCursorPage[Message](data=[Message(id='msg_WKfADGPRCI1XFH8ZZ926iiVU', assistant_id='asst_JY0og5hAYSTtPm0jlsqOTQpU', attachments=[], completed_at=None, content=[TextContentBlock(text=Text(annotations=[], value='A probabilidade de obter exatamente 150 vezes o número 6 ao jogar um dado honesto 1000 vezes é de aproximadamente 1.26%.\\n\\nSe tiver mais alguma dúvida ou se precisar de mais alguma informação, estou à disposição!'), type='text')], created_at=1716666397, incomplete_at=None, incomplete_details=None, metadata={}, object='thread.message', role='assistant', run_id='run_TtX7l1GXSrdVJYKyjdoKDVwi', status=None, thread_id='thread_ibw4QHyL1ymitnRJK4yTTuOB'), Message(id='msg_UH9f8eFxT1dpgpXQWU8spRb9', assistant_id='asst_JY0og5hAYSTtPm0jlsqOTQpU', attachments=[], completed_at=None, content=[TextContentBlock(text=Text(annotations=[], value='Para calcular a probabilidade de obter exatamente 150 vezes o número 6 ao jogar um dado honesto 1000 vezes, podemos usar a distribuição binomial. A fórmula da distribuição binomial é dada por:\\n\\n\\\\[ P(X = k) = \\\\binom{n}{k} \\\\times p^k \\\\times (1-p)^{n-k} \\\\]\\n\\nonde:\\n- \\\\( P(X = k) \\\\) é a probabilidade de obter exatamente \\\\( k \\\\) sucessos em \\\\( n \\\\) tentativas,\\n- \\\\( n \\\\) é o número total de tentativas,\\n- \\\\( k \\\\) é o número de sucessos desejados,\\n- \\\\( p \\\\) é a probabilidade de sucesso em uma única tentativa.\\n\\nNo caso do lançamento do dado, a probabilidade de obter o número 6 em uma única tentativa é 1/6, pois o dado é honesto.\\n\\nVou calcular a probabilidade para você.'), type='text')], created_at=1716666392, incomplete_at=None, incomplete_details=None, metadata={}, object='thread.message', role='assistant', run_id='run_TtX7l1GXSrdVJYKyjdoKDVwi', status=None, thread_id='thread_ibw4QHyL1ymitnRJK4yTTuOB'), Message(id='msg_3eix5rC5L2NXsf5Qg7NWZChZ', assistant_id=None, attachments=[], completed_at=None, content=[TextContentBlock(text=Text(annotations=[], value='Se eu jogar um dado honesto 1000 vezes, qual é a probabilidade de eu obter exatamente 150 vezes o número 6? Resolva com um código'), type='text')], created_at=1716666388, incomplete_at=None, incomplete_details=None, metadata={}, object='thread.message', role='user', run_id=None, status=None, thread_id='thread_ibw4QHyL1ymitnRJK4yTTuOB')], object='list', first_id='msg_WKfADGPRCI1XFH8ZZ926iiVU', last_id='msg_3eix5rC5L2NXsf5Qg7NWZChZ', has_more=False)\n"
     ]
    }
   ],
   "source": [
    "if run.status == 'completed':\n",
    "    mensagens = client.beta.threads.messages.list(\n",
    "        thread_id=thread.id\n",
    "    )\n",
    "    print(mensagens)\n",
    "else:\n",
    "    print('Erro', run.status)"
   ]
  },
  {
   "cell_type": "code",
   "execution_count": 9,
   "id": "3f9d818b",
   "metadata": {},
   "outputs": [
    {
     "name": "stdout",
     "output_type": "stream",
     "text": [
      "A probabilidade de obter exatamente 150 vezes o número 6 ao lançar um dado honesto 1000 vezes é aproximadamente 0.0126, ou seja, cerca de 1.26%.\n"
     ]
    }
   ],
   "source": [
    "print(mensagens.data[0].content[0].text.value)"
   ]
  },
  {
   "cell_type": "markdown",
   "id": "27e24b15",
   "metadata": {},
   "source": [
    "# Analisando os passos do modelo"
   ]
  },
  {
   "cell_type": "code",
   "execution_count": null,
   "id": "b5596864",
   "metadata": {},
   "outputs": [],
   "source": [
    "# Lista com todos os passos\n",
    "\n",
    "run_steps = client.beta.threads.runs.steps.list(\n",
    "  thread_id=thread.id,\n",
    "  run_id=run.id\n",
    ")"
   ]
  },
  {
   "cell_type": "markdown",
   "id": "84dea8fa",
   "metadata": {},
   "source": [
    "## Criando uma for para iterar sobre cada passo\n",
    "\n",
    "###  Se o passo for tool_calls, detalhe-o.\n",
    "\n",
    "### Se for message_creation, imprima a mensagem."
   ]
  },
  {
   "cell_type": "code",
   "execution_count": 16,
   "id": "f2c8d5ea",
   "metadata": {},
   "outputs": [
    {
     "name": "stdout",
     "output_type": "stream",
     "text": [
      "\n",
      "=== Step: message_creation\n",
      "Para calcular a probabilidade de obter exatamente 150 vezes o número 6 ao lançar um dado honesto 1000 vezes, podemos usar a distribuição binomial. A fórmula para a probabilidade em uma distribuição binomial é dada por:\n",
      "\n",
      "\\[ P(X = k) = \\binom{n}{k} \\times p^k \\times q^{n-k} \\]\n",
      "\n",
      "onde:\n",
      "- \\( n \\) é o número total de tentativas (lançamentos do dado),\n",
      "- \\( k \\) é o número de sucessos desejado (número 6),\n",
      "- \\( p \\) é a probabilidade de sucesso em uma única tentativa,\n",
      "- \\( q \\) é a probabilidade de fracasso em uma única tentativa (1 - p).\n",
      "\n",
      "Neste caso, \\( n = 1000 \\) (número total de lançamentos do dado), \\( k = 150 \\) (número de vezes em que queremos obter o número 6), \\( p = \\frac{1}{6} \\) (probabilidade de obter o número 6 em um único lançamento) e \\( q = 1 - p \\).\n",
      "\n",
      "Vamos calcular essa probabilidade com um código Python:\n",
      "\n",
      "=== Step: tool_calls\n",
      "-----\n",
      "from math import comb\n",
      "\n",
      "# Definindo os parâmetros\n",
      "n = 1000  # número total de lançamentos do dado\n",
      "k = 150   # número de vezes que queremos obter o número 6\n",
      "p = 1/6   # probabilidade de obter o número 6 em um único lançamento\n",
      "q = 1 - p # probabilidade de não obter o número 6 em um único lançamento\n",
      "\n",
      "# Calculando a probabilidade usando a fórmula da distribuição binomial\n",
      "probabilidade = comb(n, k) * (p ** k) * (q ** (n - k))\n",
      "probabilidade\n",
      "-----\n",
      "Result\n",
      "0.01262946340594314\n",
      "\n",
      "=== Step: message_creation\n",
      "A probabilidade de obter exatamente 150 vezes o número 6 ao lançar um dado honesto 1000 vezes é aproximadamente 0.0126, ou seja, cerca de 1.26%.\n"
     ]
    }
   ],
   "source": [
    "for step in run_steps.data[::-1]:\n",
    "    print('\\n=== Step:', step.step_details.type)\n",
    "    if step.step_details.type == 'tool_calls':\n",
    "        for tool_call in step.step_details.tool_calls:\n",
    "            print('-----')\n",
    "            print(tool_call.code_interpreter.input)\n",
    "            print('-----')\n",
    "            print('Result')\n",
    "            print(tool_call.code_interpreter.outputs[0].logs)\n",
    "            \n",
    "    if step.step_details.type == 'message_creation':\n",
    "        message = client.beta.threads.messages.retrieve(\n",
    "            thread_id=thread.id,\n",
    "            message_id=step.step_details.message_creation.message_id\n",
    "        )\n",
    "        print(message.content[0].text.value)\n",
    "    "
   ]
  },
  {
   "cell_type": "code",
   "execution_count": null,
   "id": "2351e1fb",
   "metadata": {},
   "outputs": [],
   "source": []
  },
  {
   "cell_type": "markdown",
   "id": "9d2fef4d",
   "metadata": {},
   "source": [
    "### Podemos ver que ele executou um codigo em python que resolveu e deu a resposta."
   ]
  },
  {
   "cell_type": "code",
   "execution_count": null,
   "id": "e834bea0",
   "metadata": {},
   "outputs": [],
   "source": []
  },
  {
   "cell_type": "code",
   "execution_count": 11,
   "id": "846ae70e",
   "metadata": {},
   "outputs": [
    {
     "data": {
      "text/plain": [
       "SyncCursorPage[Message](data=[Message(id='msg_WKfADGPRCI1XFH8ZZ926iiVU', assistant_id='asst_JY0og5hAYSTtPm0jlsqOTQpU', attachments=[], completed_at=None, content=[TextContentBlock(text=Text(annotations=[], value='A probabilidade de obter exatamente 150 vezes o número 6 ao jogar um dado honesto 1000 vezes é de aproximadamente 1.26%.\\n\\nSe tiver mais alguma dúvida ou se precisar de mais alguma informação, estou à disposição!'), type='text')], created_at=1716666397, incomplete_at=None, incomplete_details=None, metadata={}, object='thread.message', role='assistant', run_id='run_TtX7l1GXSrdVJYKyjdoKDVwi', status=None, thread_id='thread_ibw4QHyL1ymitnRJK4yTTuOB'), Message(id='msg_UH9f8eFxT1dpgpXQWU8spRb9', assistant_id='asst_JY0og5hAYSTtPm0jlsqOTQpU', attachments=[], completed_at=None, content=[TextContentBlock(text=Text(annotations=[], value='Para calcular a probabilidade de obter exatamente 150 vezes o número 6 ao jogar um dado honesto 1000 vezes, podemos usar a distribuição binomial. A fórmula da distribuição binomial é dada por:\\n\\n\\\\[ P(X = k) = \\\\binom{n}{k} \\\\times p^k \\\\times (1-p)^{n-k} \\\\]\\n\\nonde:\\n- \\\\( P(X = k) \\\\) é a probabilidade de obter exatamente \\\\( k \\\\) sucessos em \\\\( n \\\\) tentativas,\\n- \\\\( n \\\\) é o número total de tentativas,\\n- \\\\( k \\\\) é o número de sucessos desejados,\\n- \\\\( p \\\\) é a probabilidade de sucesso em uma única tentativa.\\n\\nNo caso do lançamento do dado, a probabilidade de obter o número 6 em uma única tentativa é 1/6, pois o dado é honesto.\\n\\nVou calcular a probabilidade para você.'), type='text')], created_at=1716666392, incomplete_at=None, incomplete_details=None, metadata={}, object='thread.message', role='assistant', run_id='run_TtX7l1GXSrdVJYKyjdoKDVwi', status=None, thread_id='thread_ibw4QHyL1ymitnRJK4yTTuOB'), Message(id='msg_3eix5rC5L2NXsf5Qg7NWZChZ', assistant_id=None, attachments=[], completed_at=None, content=[TextContentBlock(text=Text(annotations=[], value='Se eu jogar um dado honesto 1000 vezes, qual é a probabilidade de eu obter exatamente 150 vezes o número 6? Resolva com um código'), type='text')], created_at=1716666388, incomplete_at=None, incomplete_details=None, metadata={}, object='thread.message', role='user', run_id=None, status=None, thread_id='thread_ibw4QHyL1ymitnRJK4yTTuOB')], object='list', first_id='msg_WKfADGPRCI1XFH8ZZ926iiVU', last_id='msg_3eix5rC5L2NXsf5Qg7NWZChZ', has_more=False)"
      ]
     },
     "execution_count": 11,
     "metadata": {},
     "output_type": "execute_result"
    }
   ],
   "source": [
    "mensagens"
   ]
  },
  {
   "cell_type": "code",
   "execution_count": 16,
   "id": "0e483698",
   "metadata": {},
   "outputs": [
    {
     "data": {
      "text/plain": [
       "Message(id='msg_WKfADGPRCI1XFH8ZZ926iiVU', assistant_id='asst_JY0og5hAYSTtPm0jlsqOTQpU', attachments=[], completed_at=None, content=[TextContentBlock(text=Text(annotations=[], value='A probabilidade de obter exatamente 150 vezes o número 6 ao jogar um dado honesto 1000 vezes é de aproximadamente 1.26%.\\n\\nSe tiver mais alguma dúvida ou se precisar de mais alguma informação, estou à disposição!'), type='text')], created_at=1716666397, incomplete_at=None, incomplete_details=None, metadata={}, object='thread.message', role='assistant', run_id='run_TtX7l1GXSrdVJYKyjdoKDVwi', status=None, thread_id='thread_ibw4QHyL1ymitnRJK4yTTuOB')"
      ]
     },
     "execution_count": 16,
     "metadata": {},
     "output_type": "execute_result"
    }
   ],
   "source": [
    "mensagens.data[0]"
   ]
  }
 ],
 "metadata": {
  "kernelspec": {
   "display_name": "Python 3 (ipykernel)",
   "language": "python",
   "name": "python3"
  },
  "language_info": {
   "codemirror_mode": {
    "name": "ipython",
    "version": 3
   },
   "file_extension": ".py",
   "mimetype": "text/x-python",
   "name": "python",
   "nbconvert_exporter": "python",
   "pygments_lexer": "ipython3",
   "version": "3.11.5"
  }
 },
 "nbformat": 4,
 "nbformat_minor": 5
}
